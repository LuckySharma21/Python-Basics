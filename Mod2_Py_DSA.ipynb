{
  "nbformat": 4,
  "nbformat_minor": 0,
  "metadata": {
    "colab": {
      "provenance": []
    },
    "kernelspec": {
      "name": "python3",
      "display_name": "Python 3"
    },
    "language_info": {
      "name": "python"
    }
  },
  "cells": [
    {
      "cell_type": "code",
      "execution_count": null,
      "metadata": {
        "id": "WRYohoGHLPYi"
      },
      "outputs": [],
      "source": []
    },
    {
      "cell_type": "markdown",
      "source": [
        "**DSA THEORETICAL QUESTIONS**\n"
      ],
      "metadata": {
        "id": "NaGs-utYOmXz"
      }
    },
    {
      "cell_type": "markdown",
      "source": [
        "Q--What are data structures, and why are they important?\n",
        "\n",
        "Ans Data structures are organized ways of storing and managing data so it can be used efficiently.\n",
        "\n",
        "1) They are important because:\n",
        "2) They allow efficient data storage, retrieval, and modification.\n",
        "3) They improve algorithm performance (e.g., searching in O(1) with hash tables vs O(n) in lists).\n",
        "4) They provide specialized operations (like insertion order in lists, uniqueness in sets, key-value mapping in dictionaries)\n",
        "\n"
      ],
      "metadata": {
        "id": "GUwGSq-6OlQr"
      }
    },
    {
      "cell_type": "markdown",
      "source": [
        "Q--Explain the difference between mutable and immutable data types with examples\n",
        "\n",
        "\n",
        "Ans- Mutable: Can be changed after creation.\n",
        "Examples → list, dict, set\n",
        "\n",
        "Immutable: Cannot be changed after creation.\n",
        "Examples → tuple, string"
      ],
      "metadata": {
        "id": "A55P13MrO2KW"
      }
    },
    {
      "cell_type": "markdown",
      "source": [
        "Q--What are the main differences between lists and tuples in Python\n",
        "\n",
        "Ans- List\n",
        "A list in Python is a mutable sequence of elements, which means its contents can be changed after creation. Lists are defined using square brackets [ ] and can store multiple data types such as integers, strings, floats, or even other lists. Since they are mutable, elements can be added, removed, or modified using various built-in methods like append(), remove(), sort(), etc. Lists generally take a little more memory and are slower than tuples because of their flexibility. They are most useful when the data is expected to change frequently, such as storing student names, numbers, or dynamic datasets.\n",
        "\n",
        "Tuple\n",
        "\n",
        "A tuple in Python is an immutable sequence of elements, which means its contents cannot be altered once it is created. Tuples are defined using parentheses ( ) and, like lists, can hold elements of different data types. Because of immutability, tuples support only limited methods such as count() and index(). They are faster in execution and require less memory compared to lists. Tuples are useful in situations where the data must remain constant and secure, for example, representing fixed values such as coordinates (x, y) or days of the week. Tuples can also be used as dictionary keys, which lists cannot, due to their immutability.\n",
        "\n"
      ],
      "metadata": {
        "id": "KN7OTeqRRugS"
      }
    },
    {
      "cell_type": "markdown",
      "source": [
        "Q--Describe how dictionaries store data\n",
        "\n",
        "Ans- Dictionaries use a hash table internally.\n",
        "Keys are hashed → converted to an index in memory.\n",
        "Values are stored at that index.\n",
        "This allows O(1) average time complexity for lookups."
      ],
      "metadata": {
        "id": "pRmtRJ-ESqWx"
      }
    },
    {
      "cell_type": "markdown",
      "source": [
        "Q--Why might you use a set instead of a list in Python\n",
        "\n",
        "Ans- Sets automatically remove duplicates.\n",
        "Membership checks (x in set) are faster (O(1)) compared to lists (O(n))."
      ],
      "metadata": {
        "id": "njtz14umUW_8"
      }
    },
    {
      "cell_type": "markdown",
      "source": [
        "Q--What is a string in Python, and how is it different from a list\n",
        "\n",
        "Ans- A string is a sequence of characters, immutable.\n",
        "A list is a sequence of elements (any data type), mutable."
      ],
      "metadata": {
        "id": "aWDLAF_gUj2x"
      }
    },
    {
      "cell_type": "code",
      "source": [
        "s = \"hello\"   # cannot modify s[0]\n",
        "l = ['h','e','l','l','o']  # can modify l[0] = 'H'\n"
      ],
      "metadata": {
        "id": "xHpVbESpU1Rh"
      },
      "execution_count": null,
      "outputs": []
    },
    {
      "cell_type": "markdown",
      "source": [
        "Q--How do tuples ensure data integrity in Python\n",
        "\n",
        "Ans- Since tuples are immutable, their values cannot be modified after creation.\n",
        "This ensures the stored data remains safe, consistent, and unchanged."
      ],
      "metadata": {
        "id": "USKBrY_qU8fr"
      }
    },
    {
      "cell_type": "markdown",
      "source": [
        "Q-- What is a hash table, and how does it relate to dictionaries in Python\n",
        "\n",
        "Ans- A hash table stores data in key–value pairs using a hash function.\n",
        "Python dictionaries are implemented using hash tables → fast access, insertion, and deletion."
      ],
      "metadata": {
        "id": "pDAp1tQ0VWjr"
      }
    },
    {
      "cell_type": "markdown",
      "source": [
        "Q-- Can lists contain different data types?\n",
        "\n",
        "Ans- Yes\n"
      ],
      "metadata": {
        "id": "eC2-YeH6Vgk8"
      }
    },
    {
      "cell_type": "code",
      "source": [
        "l = [10, \"hello\", 3.5, True]\n"
      ],
      "metadata": {
        "id": "RAkBX-lbVn-k"
      },
      "execution_count": null,
      "outputs": []
    },
    {
      "cell_type": "markdown",
      "source": [
        "Q--  Explain why strings are immutable in Python"
      ],
      "metadata": {
        "id": "VV3F7j13VszQ"
      }
    },
    {
      "cell_type": "code",
      "source": [
        "Ans- Strings are immutable to ensure memory safety and security.\n",
        "They can be cached and reused efficiently by Python (string interning).\n",
        "Prevents accidental modification of shared data."
      ],
      "metadata": {
        "id": "N3d8wUYUVxBc"
      },
      "execution_count": null,
      "outputs": []
    },
    {
      "cell_type": "markdown",
      "source": [
        "Q--  What advantages do dictionaries offer over lists for certain tasks\n",
        "\n",
        "Ans- Direct access using keys (O(1)), unlike list which needs index searching (O(n)).\n",
        "Better for mapping relationships (e.g., student name → marks).\n",
        "More readable and meaningful data structure.\n",
        "\n",
        "\n",
        "\n"
      ],
      "metadata": {
        "id": "-o39JaeoWC6l"
      }
    },
    {
      "cell_type": "markdown",
      "source": [
        "Q--  Describe a scenario where using a tuple would be preferable over a list\n",
        "\n",
        "Ans- When you want data to remain unchanged (like coordinates (x,y), configuration values, days of the week).\n",
        "\n",
        "Tuples can be used as keys in dictionaries (lists cannot, since they are mutable)."
      ],
      "metadata": {
        "id": "rqn4qMwiWkzG"
      }
    },
    {
      "cell_type": "markdown",
      "source": [
        "Q-- How do sets handle duplicate values in Python\n",
        "\n",
        "Ans- Sets automatically remove duplicates when elements are inserted."
      ],
      "metadata": {
        "id": "vqvUwf6jWuUg"
      }
    },
    {
      "cell_type": "code",
      "source": [
        "s = {1, 2, 2, 3}\n",
        "print(s)  # {1, 2, 3}\n"
      ],
      "metadata": {
        "id": "AIwgoBbGW4PY"
      },
      "execution_count": null,
      "outputs": []
    },
    {
      "cell_type": "markdown",
      "source": [
        "Q--How does the “in” keyword work differently for lists and dictionaries\n",
        "\n",
        "Ans- For lists: in checks whether an element exists (linear search).\n",
        "\n",
        "For dictionaries: in checks whether a key exists (hash lookup)."
      ],
      "metadata": {
        "id": "3lCsCUJ7W7IO"
      }
    },
    {
      "cell_type": "code",
      "source": [
        "l = [1,2,3]; print(2 in l)        # True (checks elements)\n",
        "d = {'a':1,'b':2}; print('a' in d) # True (checks keys only)\n"
      ],
      "metadata": {
        "id": "FWweswtmXDOd"
      },
      "execution_count": null,
      "outputs": []
    },
    {
      "cell_type": "markdown",
      "source": [
        "Q--  Can you modify the elements of a tuple? Explain why or why not\n",
        "\n",
        "Ans- No\n",
        "Tuples are immutable.\n",
        "You cannot change, add, or remove items once created."
      ],
      "metadata": {
        "id": "lPi6LYZvXFy9"
      }
    },
    {
      "cell_type": "markdown",
      "source": [
        "Q-- What is a nested dictionary, and give an example of its use case\n",
        "\n",
        "Ans-A dictionary inside another dictionary.\n",
        "Used for structured data."
      ],
      "metadata": {
        "id": "dQRJE3bjXRZ6"
      }
    },
    {
      "cell_type": "code",
      "source": [
        "students = {\n",
        "  \"101\": {\"name\":\"Leena\", \"age\":23},\n",
        "  \"102\": {\"name\":\"Kittu\", \"age\":21}\n",
        "}\n"
      ],
      "metadata": {
        "id": "qGrAxzRtXbRl"
      },
      "execution_count": null,
      "outputs": []
    },
    {
      "cell_type": "markdown",
      "source": [
        "Q--Describe the time complexity of accessing elements in a dictionary\n",
        "\n",
        "Ans- Average case: O(1) (direct hash lookup).\n",
        "\n",
        "Worst case: O(n) (if many hash collisions occur, rare in Python).\n"
      ],
      "metadata": {
        "id": "s1LYQmhhXeTE"
      }
    },
    {
      "cell_type": "markdown",
      "source": [
        "Q--In what situations are lists preferred over dictionaries\n",
        "\n",
        "Ans-When order matters.\n",
        "\n",
        "When you only need indexed access (not key-value).\n",
        "\n",
        "When data is simple and small (e.g., storing student roll numbers [1,2,3]).\n",
        "\n"
      ],
      "metadata": {
        "id": "DVTZAvp_XkZh"
      }
    },
    {
      "cell_type": "markdown",
      "source": [
        "Q--Why are dictionaries considered unordered, and how does that affect data retrieval\n",
        "\n",
        "Ans- Before Python 3.7, dictionaries did not guarantee order.\n",
        "Even now, although insertion order is preserved, conceptually they are unordered because keys are hashed.\n",
        "This doesn’t affect retrieval since lookup is by key, not by order."
      ],
      "metadata": {
        "id": "11yDbLltX3YB"
      }
    },
    {
      "cell_type": "markdown",
      "source": [
        "Q-- Explain the difference between a list and a dictionary in terms of data retrieval.\n",
        "\n",
        "Ans- A list in Python retrieves data based on a numeric index position. Each element in the list is stored sequentially, and you can access it using its index, starting from 0. For example, in marks = [90, 85, 75], the element at index 1 can be retrieved using marks[1], which gives 85. Retrieval is simple but depends only on position, not meaning.\n",
        "\n",
        "On the other hand, a dictionary retrieves data using a key instead of an index. A dictionary stores elements as key–value pairs, where each key is unique and directly maps to a value. For example, in student = {\"name\": \"Leena\", \"age\": 23}, you can retrieve the value of \"name\" using student[\"name\"], which gives \"Leena\". This makes dictionaries more meaningful for data retrieval, as you access values using descriptive keys rather than numeric positions.\n",
        "\n",
        "---\n",
        "\n",
        "\n",
        "\n",
        "---\n",
        "\n"
      ],
      "metadata": {
        "id": "8V1yxhgHYBGB"
      }
    },
    {
      "cell_type": "markdown",
      "source": [
        "**PRACTICAL QUESTIONS**\n"
      ],
      "metadata": {
        "id": "E4c_q4nvcd0S"
      }
    },
    {
      "cell_type": "markdown",
      "source": [
        "Q-- Write a code to create a string with your name and print it"
      ],
      "metadata": {
        "id": "4OKP6ANpcjm9"
      }
    },
    {
      "cell_type": "code",
      "source": [
        "str = \"Leena\"\n",
        "print(str)"
      ],
      "metadata": {
        "id": "cDHcNGe75ZEk"
      },
      "execution_count": null,
      "outputs": []
    },
    {
      "cell_type": "markdown",
      "source": [
        "Q-- Write a code to find the length of the string \"Hello World"
      ],
      "metadata": {
        "id": "trDPV0Vyxd8v"
      }
    },
    {
      "cell_type": "code",
      "source": [
        "str = \"Hello world\"\n",
        "print(len(str))"
      ],
      "metadata": {
        "colab": {
          "base_uri": "https://localhost:8080/"
        },
        "id": "pAw3mJ2y5k0e",
        "outputId": "4169da9a-af20-4509-8d04-b610bc9bd38d"
      },
      "execution_count": null,
      "outputs": [
        {
          "output_type": "stream",
          "name": "stdout",
          "text": [
            "11\n"
          ]
        }
      ]
    },
    {
      "cell_type": "markdown",
      "source": [
        "Q-- Write a code to slice the first 3 characters from the string \"Python Programming"
      ],
      "metadata": {
        "id": "mEWHHVFBxnE4"
      }
    },
    {
      "cell_type": "code",
      "source": [
        "str = 'Python Programming'\n",
        "print(str[0:3])"
      ],
      "metadata": {
        "id": "shDRMhgM6TwZ"
      },
      "execution_count": null,
      "outputs": []
    },
    {
      "cell_type": "markdown",
      "source": [
        "Q-- Write a code to convert the string \"hello\" to uppercase"
      ],
      "metadata": {
        "id": "y1IFiVcFxuaq"
      }
    },
    {
      "cell_type": "code",
      "source": [
        "str ='hello'\n",
        "print(str.upper())"
      ],
      "metadata": {
        "colab": {
          "base_uri": "https://localhost:8080/"
        },
        "id": "cPFqjIyA6fVh",
        "outputId": "6f926d55-a5b6-4c77-96f4-4103c701a641"
      },
      "execution_count": null,
      "outputs": [
        {
          "output_type": "stream",
          "name": "stdout",
          "text": [
            "HELLO\n"
          ]
        }
      ]
    },
    {
      "cell_type": "markdown",
      "source": [
        "Q--  Write a code to replace the word \"apple\" with \"orange\" in the string \"I like apple\""
      ],
      "metadata": {
        "id": "ZO2hpOINxx1s"
      }
    },
    {
      "cell_type": "code",
      "source": [
        "str = 'I like apple'\n",
        "m=str.replace('apple','orange')\n",
        "print(m)\n"
      ],
      "metadata": {
        "colab": {
          "base_uri": "https://localhost:8080/"
        },
        "id": "acRrggCP7NF5",
        "outputId": "507e249c-28c8-42ad-b6de-7d598cd76b02"
      },
      "execution_count": null,
      "outputs": [
        {
          "output_type": "stream",
          "name": "stdout",
          "text": [
            "I like orange\n"
          ]
        }
      ]
    },
    {
      "cell_type": "markdown",
      "source": [
        "Q-- Write a code to create a list with numbers 1 to 5 and print it"
      ],
      "metadata": {
        "id": "tUuhp8LTx09-"
      }
    },
    {
      "cell_type": "code",
      "source": [
        "list1 = [1,2,3,4,5]\n",
        "print(list1)"
      ],
      "metadata": {
        "colab": {
          "base_uri": "https://localhost:8080/"
        },
        "id": "ks8h9svj-qZX",
        "outputId": "4de0d4c3-7cfc-4fca-835b-0539e2185912"
      },
      "execution_count": null,
      "outputs": [
        {
          "output_type": "stream",
          "name": "stdout",
          "text": [
            "[1, 2, 3, 4, 5]\n"
          ]
        }
      ]
    },
    {
      "cell_type": "markdown",
      "source": [
        "Q-- Write a code to append the number 10 to the list [1, 2, 3, 4]"
      ],
      "metadata": {
        "id": "62veQW2Bx4UU"
      }
    },
    {
      "cell_type": "code",
      "source": [
        "list2 = [1,2,3,4]\n",
        "list2.append(10)\n",
        "print(list1)"
      ],
      "metadata": {
        "colab": {
          "base_uri": "https://localhost:8080/"
        },
        "id": "bssdeEHMAklU",
        "outputId": "19058f6e-eb47-49c5-b6b2-a5e5237005ef"
      },
      "execution_count": null,
      "outputs": [
        {
          "output_type": "stream",
          "name": "stdout",
          "text": [
            "[1, 2, 3, 4, 5]\n"
          ]
        }
      ]
    },
    {
      "cell_type": "markdown",
      "source": [
        "Q-- Write a code to remove the number 3 from the list [1, 2, 3, 4, 5]"
      ],
      "metadata": {
        "id": "t43CRkzc0slL"
      }
    },
    {
      "cell_type": "code",
      "source": [
        "list3 = [1,2,3,4,5]\n",
        "list3.remove(3)\n",
        "print(list3)"
      ],
      "metadata": {
        "id": "Q6mvDTxxA0rl"
      },
      "execution_count": null,
      "outputs": []
    },
    {
      "cell_type": "markdown",
      "source": [
        "Q-- Write a code to access the second element in the list ['a', 'b', 'c', 'd']"
      ],
      "metadata": {
        "id": "Q0nfAMoC05aN"
      }
    },
    {
      "cell_type": "code",
      "source": [
        "list4 = ['a','b','c','d']\n",
        "print(list4[1])"
      ],
      "metadata": {
        "colab": {
          "base_uri": "https://localhost:8080/"
        },
        "id": "wROVNKo-Br4x",
        "outputId": "91f34b48-6ae1-4b72-9f18-b7a742ec178a"
      },
      "execution_count": null,
      "outputs": [
        {
          "output_type": "stream",
          "name": "stdout",
          "text": [
            "b\n"
          ]
        }
      ]
    },
    {
      "cell_type": "markdown",
      "source": [
        "Q-- Write a code to reverse the list [10, 20, 30, 40, 50]."
      ],
      "metadata": {
        "id": "iX8hbfL51VcH"
      }
    },
    {
      "cell_type": "code",
      "source": [
        "list5 = [10,20,30,40,50]\n",
        "print(list5[::-1])"
      ],
      "metadata": {
        "colab": {
          "base_uri": "https://localhost:8080/"
        },
        "id": "2KDMmvAKB7xD",
        "outputId": "ac7d62eb-dd9a-494d-fbd5-5a5afac506b1"
      },
      "execution_count": null,
      "outputs": [
        {
          "output_type": "stream",
          "name": "stdout",
          "text": [
            "[50, 30, 10]\n"
          ]
        }
      ]
    },
    {
      "cell_type": "markdown",
      "source": [
        "Q-- Write a code to create a tuple with the elements 100, 200, 300 and print it."
      ],
      "metadata": {
        "id": "IRciv85a1Z2n"
      }
    },
    {
      "cell_type": "code",
      "source": [
        "tup1 = (100,200,300)\n",
        "print(tup1)"
      ],
      "metadata": {
        "colab": {
          "base_uri": "https://localhost:8080/"
        },
        "id": "XeXy9HoUO940",
        "outputId": "6f177832-67de-4131-cfc5-7f97c8a28243"
      },
      "execution_count": null,
      "outputs": [
        {
          "output_type": "stream",
          "name": "stdout",
          "text": [
            "(100, 200, 300)\n"
          ]
        }
      ]
    },
    {
      "cell_type": "markdown",
      "source": [
        "Q-- Write a code to access the second-to-last element of the tuple ('red', 'green', 'blue', 'yellow')."
      ],
      "metadata": {
        "id": "B_MBMQ121d7C"
      }
    },
    {
      "cell_type": "code",
      "source": [
        "tup2 = ('red','green','blue','yellow')\n",
        "print(tup2[2])"
      ],
      "metadata": {
        "colab": {
          "base_uri": "https://localhost:8080/"
        },
        "id": "3UGTZpSuPI8J",
        "outputId": "c8cbee0f-4b25-4ce4-eb33-1fc75def8a24"
      },
      "execution_count": null,
      "outputs": [
        {
          "output_type": "stream",
          "name": "stdout",
          "text": [
            "blue\n"
          ]
        }
      ]
    },
    {
      "cell_type": "markdown",
      "source": [
        "Q-- Write a code to find the minimum number in the tuple (10, 20, 5, 15)"
      ],
      "metadata": {
        "id": "covjxVxW1ih5"
      }
    },
    {
      "cell_type": "code",
      "source": [
        "tup3 = (10,20,5,15)\n",
        "print(min(tup3)"
      ],
      "metadata": {
        "id": "n-bcmNGAQyQV"
      },
      "execution_count": null,
      "outputs": []
    },
    {
      "cell_type": "markdown",
      "source": [
        "Q-- Write a code to find the index of the element \"cat\" in the tuple ('dog', 'cat', 'rabbit')."
      ],
      "metadata": {
        "id": "2KdPstF91z6H"
      }
    },
    {
      "cell_type": "code",
      "source": [
        "tup4 = ('dog','cat','rabbit')\n",
        "print(tup4.index('cat'))"
      ],
      "metadata": {
        "id": "kLCUnw2OQ6tD"
      },
      "execution_count": null,
      "outputs": []
    },
    {
      "cell_type": "markdown",
      "source": [
        "Q--  Write a code to create a tuple containing three different fruits and check if \"kiwi\" is in it"
      ],
      "metadata": {
        "id": "0e24o6_M16d-"
      }
    },
    {
      "cell_type": "code",
      "source": [
        "tup5 = ('Pine','Kiwi','Dragonfruit')\n",
        "if 'Kiwi' in tup5:\n",
        "  print('yes')\n",
        "else:\n",
        "  print('no')\n"
      ],
      "metadata": {
        "colab": {
          "base_uri": "https://localhost:8080/"
        },
        "id": "XLnt1dqaRCyQ",
        "outputId": "5451bbd7-2241-4d49-d3b5-048d94f2088c"
      },
      "execution_count": null,
      "outputs": [
        {
          "output_type": "stream",
          "name": "stdout",
          "text": [
            "yes\n"
          ]
        }
      ]
    },
    {
      "cell_type": "markdown",
      "source": [
        "Q--  Write a code to create a set with the elements 'a', 'b', 'c' and print it"
      ],
      "metadata": {
        "id": "cv1BgUcE19bk"
      }
    },
    {
      "cell_type": "code",
      "source": [
        "set1 = {'a','b','c'}\n",
        "print(set1)"
      ],
      "metadata": {
        "colab": {
          "base_uri": "https://localhost:8080/"
        },
        "id": "XJe8EUfsU532",
        "outputId": "7a20f925-405a-4d3c-897e-d9ae920c03a3"
      },
      "execution_count": null,
      "outputs": [
        {
          "output_type": "stream",
          "name": "stdout",
          "text": [
            "{'a', 'b', 'c'}\n"
          ]
        }
      ]
    },
    {
      "cell_type": "markdown",
      "source": [
        "Q-- Write a code to clear all elements from the set {1, 2, 3, 4, 5}."
      ],
      "metadata": {
        "id": "Q6uHOVW72Az0"
      }
    },
    {
      "cell_type": "code",
      "source": [
        "set2 = {1,2,3,4,5}\n",
        "set2.clear()\n",
        "print(set2)"
      ],
      "metadata": {
        "id": "ICFq4P78XngF"
      },
      "execution_count": null,
      "outputs": []
    },
    {
      "cell_type": "markdown",
      "source": [
        "Q-- Write a code to remove the element 4 from the set {1, 2, 3, 4}"
      ],
      "metadata": {
        "id": "GUpP3QFA2FiC"
      }
    },
    {
      "cell_type": "code",
      "source": [
        "set3 = {1,2,3,4}\n",
        "print(set3)\n",
        "set3.remove(4)\n",
        "print(set3)"
      ],
      "metadata": {
        "colab": {
          "base_uri": "https://localhost:8080/"
        },
        "id": "8IPyuCFgBF41",
        "outputId": "369e5dda-8e1a-4d31-c665-00e43b07f5df"
      },
      "execution_count": null,
      "outputs": [
        {
          "output_type": "stream",
          "name": "stdout",
          "text": [
            "{1, 2, 3}\n"
          ]
        }
      ]
    },
    {
      "cell_type": "markdown",
      "source": [
        "Q--  Write a code to find the union of two sets {1, 2, 3} and {3, 4, 5}"
      ],
      "metadata": {
        "id": "VetsJBJF2IWV"
      }
    },
    {
      "cell_type": "code",
      "source": [
        "set7 = {1,2,3}\n",
        "set8 = {3,4,5}\n",
        "print(set7 | set8)"
      ],
      "metadata": {
        "colab": {
          "base_uri": "https://localhost:8080/"
        },
        "id": "ib_f0iY1BgCC",
        "outputId": "6d80ccd8-8210-433d-e2f1-1488ffdcbc57"
      },
      "execution_count": null,
      "outputs": [
        {
          "output_type": "stream",
          "name": "stdout",
          "text": [
            "{1, 2, 3, 4, 5}\n"
          ]
        }
      ]
    },
    {
      "cell_type": "markdown",
      "source": [
        "Q-- Write a code to find the intersection of two sets {1, 2, 3} and {2, 3, 4}."
      ],
      "metadata": {
        "id": "TzlVTXqQ2LtM"
      }
    },
    {
      "cell_type": "code",
      "source": [
        "set9 = {1,2,3}\n",
        "set0 = {2,3,4}\n",
        "print(set9 & set0)"
      ],
      "metadata": {
        "id": "IwK9etun2X2W",
        "colab": {
          "base_uri": "https://localhost:8080/"
        },
        "outputId": "4ad75775-7d44-438e-cfd0-f22b73b540c7"
      },
      "execution_count": null,
      "outputs": [
        {
          "output_type": "stream",
          "name": "stdout",
          "text": [
            "{2, 3}\n"
          ]
        }
      ]
    },
    {
      "cell_type": "markdown",
      "source": [
        "Q-- Write a code to create a dictionary with the keys \"name\", \"age\", and \"city\", and print it"
      ],
      "metadata": {
        "id": "cizQSBTD2cox"
      }
    },
    {
      "cell_type": "code",
      "source": [
        "D1 = {'name':'Shubham','age':24,'city':'varanasi',}\n",
        "print(D1)"
      ],
      "metadata": {
        "colab": {
          "base_uri": "https://localhost:8080/"
        },
        "id": "gfGQAtA2Cc_n",
        "outputId": "1f48daed-5608-434d-980b-5a8d6aea1b0b"
      },
      "execution_count": null,
      "outputs": [
        {
          "output_type": "stream",
          "name": "stdout",
          "text": [
            "{'name': 'Shubham', 'age': 24, 'city': 'varanasi'}\n"
          ]
        }
      ]
    },
    {
      "cell_type": "markdown",
      "source": [
        "Q--Write a code to add a new key-value pair \"country\": \"USA\" to the dictionary {'name': 'John', 'age': 25}."
      ],
      "metadata": {
        "id": "sQDG9_TJ2ixr"
      }
    },
    {
      "cell_type": "code",
      "source": [
        "D2 = {'name':'John','age':25}\n",
        "D2['county']='USA'\n",
        "print(D2)\n"
      ],
      "metadata": {
        "colab": {
          "base_uri": "https://localhost:8080/"
        },
        "id": "jUPE_E6DC8Ij",
        "outputId": "405348e0-df86-440b-fe19-e734d5b61729"
      },
      "execution_count": null,
      "outputs": [
        {
          "output_type": "stream",
          "name": "stdout",
          "text": [
            "{'name': 'John', 'age': 25, 'county': 'USA'}\n"
          ]
        }
      ]
    },
    {
      "cell_type": "markdown",
      "source": [
        "Q-- Write a code to access the value associated with the key \"name\" in the dictionary {'name': 'Alice', 'age': 30}."
      ],
      "metadata": {
        "id": "2esPmlBe3yqk"
      }
    },
    {
      "cell_type": "code",
      "source": [
        "D3 = {'name':'Alice','age':30}\n",
        "print(D3['name'])"
      ],
      "metadata": {
        "colab": {
          "base_uri": "https://localhost:8080/"
        },
        "id": "c7_ihpMwEdX1",
        "outputId": "264936dc-d3b5-4efc-a2fa-7b21eb141d6b"
      },
      "execution_count": null,
      "outputs": [
        {
          "output_type": "stream",
          "name": "stdout",
          "text": [
            "Alice\n"
          ]
        }
      ]
    },
    {
      "cell_type": "markdown",
      "source": [
        "Q-- Write a code to remove the key \"age\" from the dictionary {'name': 'Bob', 'age': 22, 'city': 'New York'}."
      ],
      "metadata": {
        "id": "M65GNYk830Jh"
      }
    },
    {
      "cell_type": "code",
      "source": [
        "D3 = {'name':'bob','age':22,'city':'New York'}\n",
        "print(D3)\n",
        "del D3['age']\n",
        "print(D3)"
      ],
      "metadata": {
        "colab": {
          "base_uri": "https://localhost:8080/"
        },
        "id": "-cT7NEL6FR4n",
        "outputId": "199a840a-4fe7-4306-f48e-08f1cabf0d83"
      },
      "execution_count": null,
      "outputs": [
        {
          "output_type": "stream",
          "name": "stdout",
          "text": [
            "{'name': 'bob', 'age': 22, 'city': 'New York'}\n",
            "{'name': 'bob', 'city': 'New York'}\n"
          ]
        }
      ]
    },
    {
      "cell_type": "markdown",
      "source": [
        "Q-- Write a code to check if the key \"city\" exists in the dictionary {'name': 'Alice', 'city': 'Paris'}."
      ],
      "metadata": {
        "id": "9O4svUw04CUb"
      }
    },
    {
      "cell_type": "code",
      "source": [
        "D4 = {'name':'Alice','City':'Paris'}\n",
        "if 'City' in D4:\n",
        "  print('YEs')\n",
        "else:\n",
        "  print('No')"
      ],
      "metadata": {
        "colab": {
          "base_uri": "https://localhost:8080/"
        },
        "id": "GRcCQycqGdUD",
        "outputId": "0a57c111-9f34-421e-a66a-abb7d8da7302"
      },
      "execution_count": null,
      "outputs": [
        {
          "output_type": "stream",
          "name": "stdout",
          "text": [
            "YEs\n"
          ]
        }
      ]
    },
    {
      "cell_type": "markdown",
      "source": [
        "Q-- Write a code to create a list, a tuple, and a dictionary, and print them all."
      ],
      "metadata": {
        "id": "qs9JkBa74Oeq"
      }
    },
    {
      "cell_type": "code",
      "source": [
        "# Code for creating a list\n",
        "List = [1,2,4,8,16]\n",
        "print(List)\n",
        "\n",
        "# Code for creating a tuple\n",
        "Tupl = (1,4,7,9)\n",
        "print(Tupl)\n",
        "\n",
        "# Code for creating a Dictionary\n",
        "Dict = {'Name':'Shubham', 'Age':24}\n",
        "print(Dict)"
      ],
      "metadata": {
        "colab": {
          "base_uri": "https://localhost:8080/"
        },
        "id": "zn-gCwQtHw_o",
        "outputId": "e4d70e35-4465-4035-b7d2-42145dd806a7"
      },
      "execution_count": null,
      "outputs": [
        {
          "output_type": "stream",
          "name": "stdout",
          "text": [
            "[1, 2, 4, 8, 16]\n",
            "(1, 4, 7, 9)\n",
            "{'Name': 'Shubham', 'Age': 24}\n"
          ]
        }
      ]
    },
    {
      "cell_type": "markdown",
      "source": [
        "Q--  Write a code to create a list of 5 random numbers between 1 and 100, sort it in ascending order, and print the\n",
        "result.(replaced)"
      ],
      "metadata": {
        "id": "qxC-9BSw4cRI"
      }
    },
    {
      "cell_type": "code",
      "source": [
        "List1 = [45,81,12,6,39]\n",
        "List1.sort()\n",
        "print(List1)\n",
        "\n"
      ],
      "metadata": {
        "colab": {
          "base_uri": "https://localhost:8080/"
        },
        "id": "QuJdzCNLImDx",
        "outputId": "9446b770-b144-4ad5-9a9d-507c994fa1b6"
      },
      "execution_count": null,
      "outputs": [
        {
          "output_type": "stream",
          "name": "stdout",
          "text": [
            "[6, 12, 39, 45, 81]\n"
          ]
        }
      ]
    },
    {
      "cell_type": "markdown",
      "source": [
        "Q-- Write a code to create a list with strings and print the element at the third index"
      ],
      "metadata": {
        "id": "nDXBU9sF4hJY"
      }
    },
    {
      "cell_type": "code",
      "source": [
        "Li_st = ['Leena','Meena','Teena','Deena','cheena']\n",
        "print(Li_st[3])"
      ],
      "metadata": {
        "colab": {
          "base_uri": "https://localhost:8080/"
        },
        "id": "CeU8DFtAKkkq",
        "outputId": "cc82d2aa-7dd6-4422-f00f-fdcd297e8c26"
      },
      "execution_count": null,
      "outputs": [
        {
          "output_type": "stream",
          "name": "stdout",
          "text": [
            "Deena\n"
          ]
        }
      ]
    },
    {
      "cell_type": "markdown",
      "source": [
        "Q-- Write a code to combine two dictionaries into one and print the result.\n",
        "\n"
      ],
      "metadata": {
        "id": "tV0w5IDL4li3"
      }
    },
    {
      "cell_type": "code",
      "source": [
        "D1 = {'Name':'Adhya','Age':23}\n",
        "D2 = {'City':'Delhi' }\n",
        "combined = D1 | D2\n",
        "print(combined)"
      ],
      "metadata": {
        "colab": {
          "base_uri": "https://localhost:8080/"
        },
        "id": "GINZn4RsN_n-",
        "outputId": "d05e2f1e-d2d3-4f31-fe0f-553a85943dfa"
      },
      "execution_count": null,
      "outputs": [
        {
          "output_type": "stream",
          "name": "stdout",
          "text": [
            "{'Name': 'Adhya', 'Age': 23, 'City': 'Delhi'}\n"
          ]
        }
      ]
    },
    {
      "cell_type": "markdown",
      "source": [
        "Q-- Write a code to convert a list of strings into a set."
      ],
      "metadata": {
        "id": "g8blvu2C4rIQ"
      }
    },
    {
      "cell_type": "code",
      "source": [
        "fruit_list = ['Orange','Papaya','Lemon','Kiwi']\n",
        "fruit_set = set(fruit_list)\n",
        "print(fruit_set)"
      ],
      "metadata": {
        "colab": {
          "base_uri": "https://localhost:8080/"
        },
        "id": "pmSygPLrQXzu",
        "outputId": "5252f19f-3e44-4e9f-deb2-0edd4274d4e5"
      },
      "execution_count": 29,
      "outputs": [
        {
          "output_type": "stream",
          "name": "stdout",
          "text": [
            "{'Orange', 'Lemon', 'Kiwi', 'Papaya'}\n"
          ]
        }
      ]
    }
  ]
}