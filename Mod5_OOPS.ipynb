{
  "nbformat": 4,
  "nbformat_minor": 0,
  "metadata": {
    "colab": {
      "provenance": []
    },
    "kernelspec": {
      "name": "python3",
      "display_name": "Python 3"
    },
    "language_info": {
      "name": "python"
    }
  },
  "cells": [
    {
      "cell_type": "code",
      "execution_count": null,
      "metadata": {
        "id": "oy-dI7VnY844"
      },
      "outputs": [],
      "source": [
        "***THEORETICAL QUESTION***"
      ]
    },
    {
      "cell_type": "markdown",
      "source": [
        "Ques-->What is object oriented Programming ?\n",
        "\n",
        "Ans-->Object-Oriented Programming (OOP) is a programming paradigm based on the concept of objects, which represent real-world entities.\n",
        "Each object contains data (attributes) and methods (functions/behaviors) that operate on the data.\n",
        "\n",
        "Key features are--\n",
        "\n",
        "Class\n",
        "\n",
        "Object\n",
        "\n",
        "Abstraction\n",
        "\n",
        "Polymorphism\n",
        "\n",
        "Encapsulation\n",
        "\n",
        "Inheritance"
      ],
      "metadata": {
        "id": "VsuOmVICZFyM"
      }
    },
    {
      "cell_type": "markdown",
      "source": [
        "Ques-->What is a class in OOP?\n",
        "\n",
        "Ans-->A class in Object-Oriented Programming (OOP) is a blueprint or template for creating objects.\n",
        "It defines the data (attributes/variables) and the behaviors (methods/functions) that the objects created from the class will have.\n",
        "\n",
        "In simple terms:\n",
        "\n",
        "Class = Design/Plan"
      ],
      "metadata": {
        "id": "pLzXtxnwZ11t"
      }
    },
    {
      "cell_type": "markdown",
      "source": [
        "Ques-->What is an object in OOP?\n",
        "\n",
        "Ans-->An object is an instance of a class.\n",
        "It is a real-world entity created from the blueprint of a class that actually holds data (attributes) and can perform actions (methods).\n",
        "\n",
        "In short:\n",
        "\n",
        "Class = Plan / Blueprint\n",
        "\n",
        "Objects are created using the class name as a constructor."
      ],
      "metadata": {
        "id": "YVOGgvJJaLs-"
      }
    },
    {
      "cell_type": "markdown",
      "source": [
        "Ques-->What is the difference between Abstraction and Encapsulation?\n",
        "\n",
        "Ans-->Abstraction\n",
        "\n",
        "Abstraction in OOP means hiding the internal implementation details and showing only the essential features to the user. It focuses on what an object does, not how it does it. For example, when we use a mobile phone, we just press the call button without knowing the internal processing of signals. In programming, abstraction can be achieved using abstract classes and interfaces.\n",
        "\n",
        "Encapsulation\n",
        "\n",
        "Encapsulation, on the other hand, means binding data and methods together into a single unit (class) and restricting direct access to the data for security. It focuses on protecting data and controlling how it is accessed or modified. For example, in a bank account class, the balance variable is kept private and can only be changed using methods like deposit() or withdraw()."
      ],
      "metadata": {
        "id": "NpbraUhEahR0"
      }
    },
    {
      "cell_type": "markdown",
      "source": [
        "Ques-->What are dunder methods in python?\n",
        "\n",
        "Ans-->Dunder methods (short for double underscore methods) are special, built-in methods in Python whose names start and end with double underscores (__methodname__).\n",
        "They are also called magic methods.\n",
        "\n",
        "These methods are not usually called directly by us. Instead, they are triggered automatically by Python when we perform certain operations on objects.\n",
        "\n",
        "Common Dunder MEthods are :\n",
        "\n",
        "1)__init__\n",
        "\n",
        "2)__str__\n",
        "\n",
        "3)___len__\n",
        "\n",
        "4)__add__"
      ],
      "metadata": {
        "id": "smcSFZXJbVJx"
      }
    },
    {
      "cell_type": "markdown",
      "source": [
        "Ques-->Explain the concept of Inheritance in OOPs ?\n",
        "\n",
        "Ans-->Inheritance is one of the key features of Object-Oriented Programming (OOP). It allows a new class, called the child class (or subclass), to acquire the properties and behaviors (attributes and methods) of an existing class, called the parent class (or superclass). This promotes reusability of code, because instead of writing the same code again, the child class can use the parent’s code and also add its own features.\n",
        "\n",
        "Inheritance supports the “is-a” relationship. For example, if we have a class Animal and another class Dog that inherits from Animal, then we can say that a Dog is an Animal.\n",
        "\n",
        "There are different types of inheritance, such as single inheritance (one c"
      ],
      "metadata": {
        "id": "d3vBAAf9dccJ"
      }
    },
    {
      "cell_type": "markdown",
      "source": [
        "Ques-->What is polymorphism in OOP?\n",
        "\n",
        "Ans-->Polymorphism is the ability of an object, method, or operator to take many forms.\n",
        "In other words, it allows the same interface or method to behave differently based on the context or object that is using it.\n",
        "\n",
        "Polymorphism is a combination of:\n",
        "\n",
        "“poly” → many\n",
        "\n",
        "“morph” → forms"
      ],
      "metadata": {
        "id": "YRKXxB8EeiwU"
      }
    },
    {
      "cell_type": "markdown",
      "source": [
        "Ques-->How is encapsulation achieved in python ?\n",
        "\n",
        "Ans-->In Python, encapsulation is achieved by binding the data (attributes) and methods together inside a class and restricting access to the data to protect it from unauthorized use. By default, all attributes and methods in Python are public and can be accessed from anywhere. To indicate restricted access, Python provides naming conventions: a single underscore _ before an attribute makes it protected, suggesting it is intended for internal use only, while a double underscore __ makes an attribute private, preventing direct access from outside the class. Private attributes can still be accessed indirectly through getter and setter methods defined inside the class. This approach ensures that the internal state of an object is hidden and secure, while still allowing controlled interaction with the object’s data."
      ],
      "metadata": {
        "id": "f79zELBbe78i"
      }
    },
    {
      "cell_type": "markdown",
      "source": [
        "Ques-->What is a constructor in Python ?\n",
        "\n",
        "Ans-->A constructor is a special method in a class that is automatically called when an object of that class is created. It is used to initialize the attributes of the object with default or user-defined values.\n",
        "\n",
        "In Python, the constructor method is always named __init__(), which is a dunder (double underscore) method.\n",
        "\n",
        "Key Points\n",
        "\n",
        "Automatically called when an object is created.\n",
        "\n",
        "Can take parameters to initialize object attributes.\n",
        "\n",
        "Ensures that each object starts with a valid initial state."
      ],
      "metadata": {
        "id": "MLcCO_G-h5j9"
      }
    },
    {
      "cell_type": "markdown",
      "source": [
        "Ques-->What are class and static methods in Python?\n",
        "\n",
        "Ans-->. Class Method\n",
        "\n",
        "Definition: A class method is a method that works with the class itself, not individual objects. It can access or modify class-level attributes but cannot access instance attributes directly.\n",
        "\n",
        "Decorator: @classmethod\n",
        "\n",
        "First Parameter: cls (refers to the class)\n",
        "\n",
        "Usage: When you want to perform operations at the class level, not the object level.\n",
        "\n",
        "2. Static Method\n",
        "\n",
        "Definition: A static method does not access the class or instance directly. It behaves like a regular function inside a class.\n",
        "\n",
        "Decorator: @staticmethod\n",
        "\n",
        "No Special Parameter: Doesn’t take self or cls\n",
        "\n",
        "Usage: When you want a method related to the class conceptually, but it doesn’t need class or object data."
      ],
      "metadata": {
        "id": "Wr0sjQRXiR-Q"
      }
    },
    {
      "cell_type": "markdown",
      "source": [
        "Ques-->What is method overloading in Python?\n",
        "\n",
        "Ans-->Method overloading is a feature of OOP where multiple methods can have the same name but differ in the number or type of parameters.\n",
        "It allows a class to have different behaviors for the same method name based on the input.\n",
        "\n",
        "Important Note in Python\n",
        "\n",
        "Python does not support traditional method overloading like Java or C++.\n",
        "\n",
        "If you define multiple methods with the same name, the latest definition overrides the previous ones.\n",
        "\n",
        "In Python, method overloading is usually simulated using:\n",
        "\n",
        "Default arguments\n",
        "\n",
        "*args and **kwargs"
      ],
      "metadata": {
        "id": "G-R20QaXivlq"
      }
    },
    {
      "cell_type": "markdown",
      "source": [
        "Ques-->What is method overriding in Python?\n",
        "\n",
        "Ans-->Method overriding occurs when a child class (subclass) defines a method with the same name and parameters as a method in its parent class (superclass).\n",
        "The child class method overrides the parent class method, i.e., when called using a child object, the child’s version of the method executes.\n",
        "\n",
        "Key Points\n",
        "\n",
        "It is a runtime (dynamic) polymorphism feature in OOP.\n",
        "\n",
        "Used to modify or extend the behavior of a parent class method in the child class.\n",
        "\n",
        "Parent method can still be accessed using the super() function if needed.\n",
        "\n",
        "Example-->"
      ],
      "metadata": {
        "id": "WGuVCRkmjUdu"
      }
    },
    {
      "cell_type": "code",
      "source": [
        "class Parent:\n",
        "    def greet(self):\n",
        "        print(\"Hello from Parent\")\n",
        "\n",
        "class Child(Parent):\n",
        "    def greet(self):\n",
        "        print(\"Hello from Child\")\n",
        "\n",
        "# Creating object of Child\n",
        "obj = Child()\n",
        "obj.greet()  # Output: Hello from Child\n"
      ],
      "metadata": {
        "colab": {
          "base_uri": "https://localhost:8080/"
        },
        "id": "1WMs44wGjuWR",
        "outputId": "1433b5bd-59e8-486b-c2ff-989df5ec4ce1"
      },
      "execution_count": null,
      "outputs": [
        {
          "output_type": "stream",
          "name": "stdout",
          "text": [
            "Hello from Child\n"
          ]
        }
      ]
    },
    {
      "cell_type": "markdown",
      "source": [
        "Ques-->What is a property decorator in Python ?\n",
        "\n",
        "Ans-->The @property decorator in Python is used to define a method as a property.\n",
        "It allows a method to be accessed like an attribute without explicitly calling it with parentheses ().\n",
        "This helps in controlled access to attributes, combining the simplicity of attributes with the flexibility of methods.\n",
        "\n",
        "Key Points\n",
        "\n",
        "Makes getter methods look like attributes.\n",
        "\n",
        "Can also be used with setter and deleter to control attribute assignment and deletion.\n",
        "\n",
        "Useful for encapsulation while keeping code clean."
      ],
      "metadata": {
        "id": "SqzPRH_JjzYC"
      }
    },
    {
      "cell_type": "markdown",
      "source": [
        "Ques-->Why is polymorphism important in python?\n",
        "\n",
        "Ans-->Polymorphism is important in Python because it allows objects of different classes to be treated in a similar way, as long as they implement the same method or behavior. This makes code more flexible, reusable, and easier to maintain.\n",
        "\n",
        "For example, you can write a function that works with different types of objects without worrying about their specific class, as long as they implement the required method. This is especially useful in large programs, where it reduces complexity and allows dynamic behavior at runtime.\n",
        "\n",
        "Polymorphism also supports code extensibility. You can add new classes with the same interface, and existing functions that use polymorphic behavior will automatically work with the new classes without modification."
      ],
      "metadata": {
        "id": "1yqDV8rVk9GO"
      }
    },
    {
      "cell_type": "markdown",
      "source": [
        "Ques-->What is an abstract class in python?\n",
        "\n",
        "Ans-->An abstract class is a class that cannot be instantiated directly and is designed to be a base class for other classes.\n",
        "It may contain one or more abstract methods, which are methods declared but not implemented.\n",
        "The main purpose of an abstract class is to provide a common interface for its subclasses.\n",
        "\n",
        "Key Points\n",
        "\n",
        "Abstract classes are part of the abc module in Python.\n",
        "\n",
        "They are used to enforce that certain methods must be implemented by all subclasses.\n",
        "\n",
        "You cannot create objects of an abstract class; only its child classes can be instantiated."
      ],
      "metadata": {
        "id": "-UMG62LalNe0"
      }
    },
    {
      "cell_type": "markdown",
      "source": [
        "Ques-->What are the advantages of OOP?\n",
        "\n",
        "Ans-->Object-Oriented Programming (OOP) provides several advantages that make it a powerful and widely used programming approach. The biggest benefit is modularity — code is divided into classes and objects, making programs easier to organize, understand, and manage. OOP also promotes reusability through the concept of inheritance, allowing new classes to be built upon existing ones without rewriting code.\n",
        "\n",
        "Another advantage is data security and hiding using encapsulation, which protects the internal state of objects and only exposes necessary details. OOP also supports polymorphism, meaning the same operation can behave differently on different objects, leading to more flexible and extensible code.\n",
        "\n",
        "Additionally, OOP improves maintainability"
      ],
      "metadata": {
        "id": "IVLRUWFBleUe"
      }
    },
    {
      "cell_type": "markdown",
      "source": [
        "Ques-->What is the difference between a class variable and an instance variable+\n",
        "\n",
        "Ans-->Class Variable\n",
        "\n",
        "A class variable is shared by all objects of the class.\n",
        "\n",
        "It belongs to the class itself, not to individual objects.\n",
        "\n",
        "If one object changes it (using the class name), the change is reflected for all objects.\n",
        "\n",
        "Defined inside the class, but outside any method.\n",
        "\n",
        "Instance Variable\n",
        "\n",
        "An instance variable is unique to each object.\n",
        "\n",
        "It belongs to the instance (object), not the class.\n",
        "\n",
        "Each object has its own separate copy.\n",
        "\n",
        "Defined inside methods, usually inside __init__ using self."
      ],
      "metadata": {
        "id": "UgBpO5bG6Lif"
      }
    },
    {
      "cell_type": "markdown",
      "source": [
        "Ques-->What is multiple inheritance in Python?\n",
        "\n",
        "Ans-->Multiple inheritance is an OOP feature where a class can inherit from more than one parent class.\n",
        "This means the child class can access the attributes and methods of multiple classes, allowing it to combine functionality from different sources.\n",
        "\n",
        "Key Points\n",
        "\n",
        "In Python, multiple inheritance is fully supported.\n",
        "\n",
        "The child class can use methods and variables from all parent classes.\n",
        "\n",
        "If the same method exists in multiple parent classes, Python follows the Method Resolution Order (MRO) (left-to-right order of inheritance).K"
      ],
      "metadata": {
        "id": "Fv22fWfq6gsz"
      }
    },
    {
      "cell_type": "markdown",
      "source": [
        "Ques--> Explain the purpose of ‘’__str__’ and ‘__repr__’ ‘ methods in Python\n",
        "\n",
        "Ans-->\n",
        "1. __str__ Method\n",
        "\n",
        "The __str__ method defines the “user-friendly” string representation of an object.\n",
        "\n",
        "It is called when you use print(object) or str(object).\n",
        "\n",
        "Its purpose is to give a clear and readable description of the object for end users.\n",
        "\n",
        "Syntax of __str__\n",
        "\n",
        "def __str__(self):\n",
        "\n",
        "    return \"string_representation\"\n",
        "\n",
        "2. __repr__ Method\n",
        "\n",
        "The __repr__ method defines the “official” string representation of an object.\n",
        "\n",
        "It is called when you use repr(object) or just type the object’s name in the Python shell.\n",
        "\n",
        "Its purpose is mainly for developers and debugging — it should ideally return a string that could be used to recreate the object.\n",
        "\n",
        "Syntax of __repr__\n",
        "def __repr__(self):\n",
        "\n",
        "    return \"official_string_representation\""
      ],
      "metadata": {
        "id": "HZf8nnID7ivE"
      }
    },
    {
      "cell_type": "markdown",
      "source": [
        "Ques-->What is the significance of the ‘super()’ function in Python?\n",
        "\n",
        "Ans-->Significance of super()\n",
        "\n",
        "1. Access Parent Class Methods and Variables\n",
        "\n",
        "It allows a child class to call methods or access variables from its parent class without explicitly naming the parent.\n",
        "\n",
        "2. Avoids Repetition\n",
        "\n",
        "Instead of hardcoding the parent class name, super() makes the code cleaner and avoids errors when classes are renamed or extended.\n",
        "\n",
        "3. Supports Multiple Inheritance\n",
        "\n",
        "Python uses Method Resolution Order (MRO) to decide which parent’s method gets called when using super().\n",
        "\n",
        "This ensures the correct order of execution in multiple inheritance.\n",
        "\n",
        "4. Used Mostly in Constructors (__init__)\n",
        "\n",
        "The most common use is calling the parent’s constructor so that the child class can initialize both its own properties and the inherited ones."
      ],
      "metadata": {
        "id": "xMV8dbpZ8gpJ"
      }
    },
    {
      "cell_type": "markdown",
      "source": [
        "Ques-->What is the significance of the __del__ method in Python+\n",
        "\n",
        "Ans-->The __del__ method in Python is a destructor.\n",
        "It is automatically called when an object is about to be destroyed (i.e., when its reference count drops to zero, and Python’s garbage collector clears it from memory).\n",
        "\n",
        "***Significance of __del__***\n",
        "\n",
        "Resource Cleanup\n",
        "\n",
        "It allows you to release external resources like files, network connections, or database connections before the object is destroyed.\n",
        "\n",
        "Finalization of Objects\n",
        "\n",
        "It gives you a chance to perform any \"last tasks\" before an object is removed from memory.\n",
        "\n",
        "Automatic Invocation\n",
        "\n",
        "You don’t call __del__() directly; Python calls it when the object is no longer needed."
      ],
      "metadata": {
        "id": "JJ6Ha7L98_JB"
      }
    },
    {
      "cell_type": "markdown",
      "source": [
        "Ques-->What is the difference between @staticmethod and @classmethod in Python?\n",
        "\n",
        "Ans-->***Static Method (@staticmethod)***\n",
        "\n",
        "A static method in Python is a method that belongs to a class but does not take the instance (self) or the class (cls) as its first argument. This means it cannot access or modify class variables or instance variables directly. It behaves just like a normal function but is kept inside a class for better organization. Static methods are usually used for utility or helper tasks that are logically related to the class but do not need to work with the class or its objects.\n",
        "\n",
        "***Class Method (@classmethod)***\n",
        "\n",
        "A class method in Python is a method that takes cls as its first parameter, where cls refers to the class itself. Unlike static methods, class methods can access and modify class-level variables that are shared across all objects of the class. They are often used when you want to perform operations that affect the class as a whole rather than a single object. Class methods provide a way to work with the overall behavior or state of the class."
      ],
      "metadata": {
        "id": "IaC33Z5H9_4c"
      }
    },
    {
      "cell_type": "markdown",
      "source": [
        "Ques--> How does polymorphism work in Python with inheritance?\n",
        "\n",
        "Ans-->Polymorphism allows objects of different classes to be treated through the same interface, and the correct method is called depending on the object type.\n",
        "When combined with inheritance, child classes can override parent class methods, and Python automatically calls the appropriate method at runtime. This is called runtime polymorphism or method overriding.\n",
        "\n",
        "How It Works\n",
        "\n",
        "A parent class defines a method.\n",
        "\n",
        "A child class inherits from the parent and overrides that method.\n",
        "\n",
        "When you call the method on a child object, Python executes the child’s version, even if the object is referenced as a parent type.\n",
        "\n",
        "This allows a single function or interface to work with objects of different classes in a flexible way.\n"
      ],
      "metadata": {
        "id": "_rHnfBBN-u5r"
      }
    },
    {
      "cell_type": "markdown",
      "source": [
        "Ques-->What is method chaining in Python OOP?\n",
        "\n",
        "Ans-->Method chaining is a programming technique in Python where multiple methods are called sequentially on the same object in a single statement. Each method returns the object itself (usually self), so the next method can be called immediately.\n",
        "\n",
        "This approach allows for more concise and readable code, especially when performing multiple operations on the same object.\n",
        "\n",
        "Key Points\n",
        "\n",
        "Requires methods to return self.\n",
        "\n",
        "Improves code readability and reduces the need for intermediate variables.\n",
        "\n",
        "Common in fluent interfaces, like in string manipulation, data processing, or configuration setups.\n"
      ],
      "metadata": {
        "id": "ZL8oO5iR_IQ4"
      }
    },
    {
      "cell_type": "markdown",
      "source": [
        "Ques-->What is the purpose of the __call__ method in Python?\n",
        "\n",
        "Ans-->Purpose of __call__ in Python\n",
        "\n",
        "Make objects callable\n",
        "\n",
        "Normally, only functions can be called using parentheses ().\n",
        "\n",
        "By defining __call__, you can make instances of a class behave like functions.\n",
        "\n",
        "Encapsulation of behavior\n",
        "\n",
        "You can store data in the object and define behavior in __call__, combining state and functionality.\n",
        "\n",
        "Useful in advanced patterns\n",
        "\n",
        "Often used in decorators, callbacks, or functional-style programming where objects need to act like functions."
      ],
      "metadata": {
        "id": "TfxcA1JOASdn"
      }
    },
    {
      "cell_type": "markdown",
      "source": [
        "***PRACTICAL QUESTIONS***"
      ],
      "metadata": {
        "id": "V_kvLj2ZBygD"
      }
    },
    {
      "cell_type": "markdown",
      "source": [
        "Ques-->Create a parent class Animal with a method speak() that prints a generic message. Create a child class Dog\n",
        "that overrides the speak() method to print \"Bark!\".\n",
        "\n",
        "Ans-->"
      ],
      "metadata": {
        "id": "BUqD97p4B8Kd"
      }
    },
    {
      "cell_type": "code",
      "source": [
        "class Animal:\n",
        "  def speak(self):\n",
        "    print(\"Animals make certain sound\")\n",
        "\n",
        "class Dog(Animal):\n",
        "  def speak(self):\n",
        "    print(\"Bark!\")"
      ],
      "metadata": {
        "id": "Ov0-g2-uCpTb"
      },
      "execution_count": 3,
      "outputs": []
    },
    {
      "cell_type": "markdown",
      "source": [
        "Ques-->Write a program to create an abstract class Shape with a method area(). Derive classes Circle and Rectangle\n",
        "from it and implement the area() method in both."
      ],
      "metadata": {
        "id": "MHvtVRN5CWJQ"
      }
    },
    {
      "cell_type": "code",
      "source": [
        "from re import S\n",
        "from abc import ABC, abstractmethod\n",
        "import math\n",
        "class Shape(ABC):\n",
        "  @abstractmethod\n",
        "  def area():\n",
        "    pass\n",
        "\n",
        "class Circle(Shape):\n",
        "  def __init__(self,radius):\n",
        "    self.radius = radius\n",
        "\n",
        "  def area(self):\n",
        "    return math.pi*self.radius*self.radius\n",
        "\n",
        "class Rectangle(Shape):\n",
        "  def __init__(self,length,width):\n",
        "    self.length = length\n",
        "    self.width = width\n",
        "\n",
        "  def area(self):\n",
        "     return self.length*self.width\n",
        "\n",
        "shapes = [Circle(5),Rectangle(3,4)]\n",
        "for shape in shapes:\n",
        "    print(f\"The area of {shape.__class__.__name__} is {shape.area()}\")\n",
        "\n",
        ""
      ],
      "metadata": {
        "id": "a8u0d6fXCqH2",
        "colab": {
          "base_uri": "https://localhost:8080/"
        },
        "outputId": "a1483b7f-54a1-4ad5-b50a-897cde96de45"
      },
      "execution_count": 7,
      "outputs": [
        {
          "output_type": "stream",
          "name": "stdout",
          "text": [
            "The area of Circle is 78.53981633974483\n",
            "The area of Rectangle is 12\n"
          ]
        }
      ]
    },
    {
      "cell_type": "markdown",
      "source": [
        "Ques-->Implement a multi-level inheritance scenario where a class Vehicle has an attribute type. Derive a class Car\n",
        "and further derive a class ElectricCar that adds a battery attribute."
      ],
      "metadata": {
        "id": "vycPcIzICa-i"
      }
    },
    {
      "cell_type": "code",
      "source": [
        "class Vehicle():\n",
        "  def __init__(self,type):\n",
        "    self.type = type\n",
        "\n",
        "  def show_info(self):\n",
        "        print(f\"Type: {self.type}\")\n",
        "\n",
        "class car(Vehicle):\n",
        "  def __init__(self,type,brand,model):\n",
        "    self.brand = brand\n",
        "    self.model = model\n",
        "    super().__init__(type)\n",
        "\n",
        "  def show_info(self):\n",
        "    super().show_info()\n",
        "    print(f\"Type: {self.type}, Brand: {self.brand}, Model: {self.model}\")\n",
        "\n",
        "class ElectricCar(car):\n",
        "  def __init__(self,type,brand,model,battery):\n",
        "    self.battery = battery\n",
        "    super().__init__(type,brand,model)\n",
        "\n",
        "  def show_info(self):\n",
        "    super().show_info()\n",
        "    print(f\"Battery: {self.battery}\")\n",
        "\n",
        "ecar = ElectricCar(\"Electric\",\"Tesla\",\"Latest\",75)\n",
        "ecar.show_info()"
      ],
      "metadata": {
        "colab": {
          "base_uri": "https://localhost:8080/"
        },
        "id": "fZ3pi9P9rHXr",
        "outputId": "fc99a6f7-d5ef-4460-fa11-5f7fca81d2b2"
      },
      "execution_count": 15,
      "outputs": [
        {
          "output_type": "stream",
          "name": "stdout",
          "text": [
            "Type: Electric\n",
            "Type: Electric, Brand: Tesla, Model: Latest\n",
            "Battery: 75\n"
          ]
        }
      ]
    },
    {
      "cell_type": "markdown",
      "source": [
        "Ques-->Write a program to demonstrate encapsulation by creating a class BankAccount with private attributes\n",
        "balance and methods to deposit, withdraw, and check balance."
      ],
      "metadata": {
        "id": "b9LAFOL1CxFO"
      }
    },
    {
      "cell_type": "code",
      "source": [
        "class BankAccount:\n",
        "  def __init__(self,balance=0):\n",
        "    # private attribute\n",
        "    self.__balance = balance\n",
        "\n",
        "  def deposit(self,amount):\n",
        "      if amount>0:\n",
        "        self.__balance += amount\n",
        "        print(f\"Deposited:{amount}\")\n",
        "      else:\n",
        "        print(\"Pklease enter valid amount\")\n",
        "\n",
        "  def withdraw(self,amount):\n",
        "      if 0 < amount <=self.__balance:\n",
        "        self.__balance -= amount\n",
        "        print(f\"withdrawn:{amount}\")\n",
        "      else:\n",
        "        print(\"Pehle pese to dal le kuch, tb to withdraw krna\")\n",
        "\n",
        "  def check_balance(self):\n",
        "        print(f\"Balance is :{self.__balance}\")\n",
        "        return self.__balance\n",
        "\n",
        "account = BankAccount(5000)\n",
        "account.deposit(1000)\n",
        "account.withdraw(2000)\n",
        "account.check_balance()"
      ],
      "metadata": {
        "id": "Ex6vf1rdDAuY",
        "colab": {
          "base_uri": "https://localhost:8080/"
        },
        "outputId": "dcf72fbe-b74e-4837-90a1-34cfb1b2a220"
      },
      "execution_count": 20,
      "outputs": [
        {
          "output_type": "stream",
          "name": "stdout",
          "text": [
            "Deposited:1000\n",
            "withdrawn:2000\n",
            "Balance is :4000\n"
          ]
        },
        {
          "output_type": "execute_result",
          "data": {
            "text/plain": [
              "4000"
            ]
          },
          "metadata": {},
          "execution_count": 20
        }
      ]
    },
    {
      "cell_type": "markdown",
      "source": [
        "Ques-->Demonstrate polymorphism by creating a base class Bird with a method fly(). Create two derived classes\n",
        "Sparrow and Penguin that override the fly() method.\n"
      ],
      "metadata": {
        "id": "olgWXjPNDDus"
      }
    },
    {
      "cell_type": "code",
      "source": [
        "class Bird:\n",
        "  def fly(self):\n",
        "    print(\"Birds can fly\")\n",
        "\n",
        "class sparrow(Bird):\n",
        "  def fly(self):\n",
        "    print(\"Sparrows also fly\")\n",
        "\n",
        "class penguin(Bird):\n",
        "  def fly(self):\n",
        "    print(\"Penguins cannot fly, they swim\")\n",
        "\n",
        "bird = Bird()\n",
        "Sparrow = sparrow()\n",
        "Penguin = penguin()\n",
        "\n",
        "\n",
        "Sparrow.fly()\n",
        "Penguin.fly()\n",
        "# bird.fly()"
      ],
      "metadata": {
        "id": "FfhlZng6Df4j",
        "colab": {
          "base_uri": "https://localhost:8080/"
        },
        "outputId": "f693dc43-5073-4cf3-be7b-7b074e5b33c7"
      },
      "execution_count": 1,
      "outputs": [
        {
          "output_type": "stream",
          "name": "stdout",
          "text": [
            "Sparrows also fly\n",
            "Penguins cannot fly, they swim\n"
          ]
        }
      ]
    },
    {
      "cell_type": "markdown",
      "source": [
        "Ques-->Demonstrate runtime polymorphism using a method play() in a base class Instrument. Derive classes Guitar\n",
        "and Piano that implement their own version of play()."
      ],
      "metadata": {
        "id": "LY50a_DXDgvm"
      }
    },
    {
      "cell_type": "code",
      "source": [
        "class Instrument:\n",
        "  def play(self):\n",
        "    print(\" \")\n",
        "\n",
        "class Guitar(Bird):\n",
        "  def play(self):\n",
        "    print(\"Strings make sound\")\n",
        "\n",
        "class Harmonium(Bird):\n",
        "  def play(self):\n",
        "    print(\"Keys create sound\")\n",
        "\n",
        "gu  = Guitar()\n",
        "har = Harmonium()\n",
        "Penguin = penguin()\n",
        "\n",
        "\n",
        "gu.play()\n",
        "har.play()\n",
        "\n"
      ],
      "metadata": {
        "id": "7rpdBvN4DmVk",
        "colab": {
          "base_uri": "https://localhost:8080/"
        },
        "outputId": "b19644e3-d0be-45da-b216-9894ca15691c"
      },
      "execution_count": 3,
      "outputs": [
        {
          "output_type": "stream",
          "name": "stdout",
          "text": [
            "Strings make sound\n",
            "Keys create sound\n"
          ]
        }
      ]
    },
    {
      "cell_type": "markdown",
      "source": [
        "Ques--> Create a class MathOperations with a class method add_numbers() to add two numbers and a static\n",
        "method subtract_numbers() to subtract two numbers."
      ],
      "metadata": {
        "id": "KEKiNCsNDnEs"
      }
    },
    {
      "cell_type": "code",
      "source": [
        "class MathOperations:\n",
        "  @classmethod\n",
        "  def add_numbers(cls,a,b):\n",
        "    return a+b\n",
        "\n",
        "  @staticmethod\n",
        "  def subtract_numbers(a,b):\n",
        "    return a-b\n",
        "\n",
        "print(MathOperations.add_numbers(2,3))\n",
        "print(MathOperations.subtract_numbers(2,3))"
      ],
      "metadata": {
        "id": "P0kFiyOvDuTJ",
        "colab": {
          "base_uri": "https://localhost:8080/"
        },
        "outputId": "aa7dc5cf-a0c3-4eb3-caa1-5a5801e4d0b0"
      },
      "execution_count": 1,
      "outputs": [
        {
          "output_type": "stream",
          "name": "stdout",
          "text": [
            "5\n",
            "-1\n"
          ]
        }
      ]
    },
    {
      "cell_type": "markdown",
      "source": [
        "Ques--> Implement a class Person with a class method to count the total number of persons created."
      ],
      "metadata": {
        "id": "iZzPZIlfDulM"
      }
    },
    {
      "cell_type": "code",
      "source": [
        "class Person:\n",
        "  count = 0\n",
        "  def __init__(self,name):\n",
        "    self.name = name\n",
        "    Person.count+=1\n",
        "\n",
        "\n",
        "  @classmethod\n",
        "\n",
        "  def get_P_count(cls):\n",
        "      return cls.count\n",
        "\n",
        "person1 = Person(\"Leena\")\n",
        "person2= Person(\"Shubham\")\n",
        "person3 = Person(\"Leena\")\n",
        "\n",
        "\n",
        "print(\"The total no of people are\",Person.get_P_count())\n",
        "\n",
        "\n"
      ],
      "metadata": {
        "id": "aCBeEmHYD4iM",
        "colab": {
          "base_uri": "https://localhost:8080/"
        },
        "outputId": "e450e6ec-8d48-455d-c954-08987e95abb1"
      },
      "execution_count": 4,
      "outputs": [
        {
          "output_type": "stream",
          "name": "stdout",
          "text": [
            "The total no of people are 3\n"
          ]
        }
      ]
    },
    {
      "cell_type": "markdown",
      "source": [
        "Ques-->Write a class Fraction with attributes numerator and denominator. Override the str method to display the\n",
        "fraction as \"numerator/denominator\"."
      ],
      "metadata": {
        "id": "EOblXCyuD5Ds"
      }
    },
    {
      "cell_type": "code",
      "source": [
        "class Fraction:\n",
        "  def __init__(self,numerator,denominator):\n",
        "    self.numerator = numerator\n",
        "    self.denominator = denominator\n",
        "\n",
        "  def __str__(self):\n",
        "    return f\"{self.numerator}/{self.denominator}\"\n",
        "\n",
        "f1 = Fraction(2,3)\n",
        "print(f1)"
      ],
      "metadata": {
        "id": "xSavD5T4EBC0",
        "colab": {
          "base_uri": "https://localhost:8080/"
        },
        "outputId": "7f54aa7b-96bf-453c-8df5-486b47b4f036"
      },
      "execution_count": 24,
      "outputs": [
        {
          "output_type": "stream",
          "name": "stdout",
          "text": [
            "2/3\n"
          ]
        }
      ]
    },
    {
      "cell_type": "markdown",
      "source": [
        "Ques-->Demonstrate operator overloading by creating a class Vector and overriding the add method to add two\n",
        "vectors."
      ],
      "metadata": {
        "id": "GBngWGJAEBXO"
      }
    },
    {
      "cell_type": "code",
      "source": [
        "class Vector:\n",
        "    def __init__(self, x, y):\n",
        "        self.x = x\n",
        "        self.y = y\n",
        "\n",
        "    # operator overloading for +\n",
        "    def __add__(self, other):\n",
        "        return Vector(self.x + other.x, self.y + other.y)\n",
        "\n",
        "    def __str__(self):\n",
        "        return f\"({self.x}, {self.y})\"\n",
        "\n",
        "\n",
        "# objects\n",
        "v1 = Vector(2, 3)\n",
        "v2 = Vector(4, 5)\n",
        "\n",
        "v3 = v1 + v2   # actually calls v1.__add__(v2)\n",
        "print(\"Resultant Vector:\", v3)\n"
      ],
      "metadata": {
        "id": "E-Ks5jewEM4q",
        "colab": {
          "base_uri": "https://localhost:8080/"
        },
        "outputId": "93b530dd-a654-4834-ca7e-627cc127316e"
      },
      "execution_count": 23,
      "outputs": [
        {
          "output_type": "stream",
          "name": "stdout",
          "text": [
            "Resultant Vector: (6, 8)\n"
          ]
        }
      ]
    },
    {
      "cell_type": "markdown",
      "source": [
        "Ques-->Create a class Person with attributes name and age. Add a method greet() that prints \"Hello, my name is\n",
        "{name} and I am {age} years old.\"\n",
        "\n",
        "\n"
      ],
      "metadata": {
        "id": "bGNW5hq2EQFw"
      }
    },
    {
      "cell_type": "code",
      "source": [
        "class Person:\n",
        "  def __init__(self,name,age):\n",
        "    self.name = name\n",
        "    self.age = age\n",
        "\n",
        "  def greet(self):\n",
        "    print(f\"Hello my name is {self.name}, and I am {self.age} years old\")\n",
        "\n",
        "p1 = Person(\"Mahi\",20)\n",
        "p1.greet()\n"
      ],
      "metadata": {
        "id": "hu8kJ-iwEban",
        "colab": {
          "base_uri": "https://localhost:8080/"
        },
        "outputId": "9eee3c17-ae79-42a3-cba1-aaa6809c6e5c"
      },
      "execution_count": 22,
      "outputs": [
        {
          "output_type": "stream",
          "name": "stdout",
          "text": [
            "Hello my name is Mahi, and I am 20 years old\n"
          ]
        }
      ]
    },
    {
      "cell_type": "markdown",
      "source": [
        "Ques--> Implement a class Student with attributes name and grades. Create a method average_grade() to compute\n",
        "the average of the grades."
      ],
      "metadata": {
        "id": "kzYKmT8WEbto"
      }
    },
    {
      "cell_type": "code",
      "source": [
        "class Student:\n",
        "    def __init__(self, name, grades):\n",
        "        self.name = name\n",
        "        self.grades = grades   # list of grades\n",
        "\n",
        "    def average_grade(self):\n",
        "        if len(self.grades) == 0:\n",
        "            return 0\n",
        "        return sum(self.grades) / len(self.grades)\n",
        "\n",
        "\n",
        "# object create\n",
        "s1 = Student(\"Leena\", [85, 90, 78, 92])\n",
        "s2 = Student(\"Shubham\", [70, 65, 80])\n",
        "\n",
        "print(f\"{s1.name}'s Average Grade: {s1.average_grade()}\")\n",
        "print(f\"{s2.name}'s Average Grade: {s2.average_grade()}\")\n",
        "\n"
      ],
      "metadata": {
        "id": "48KlgeZpFy4A",
        "colab": {
          "base_uri": "https://localhost:8080/"
        },
        "outputId": "6422396f-5847-4e39-8889-0e460c6e04c4"
      },
      "execution_count": 18,
      "outputs": [
        {
          "output_type": "stream",
          "name": "stdout",
          "text": [
            "Leena's Average Grade: 86.25\n",
            "Shubham's Average Grade: 71.66666666666667\n"
          ]
        }
      ]
    },
    {
      "cell_type": "markdown",
      "source": [
        "Ques-->Create a class Rectangle with methods set_dimensions() to set the dimensions and area() to calculate the\n",
        "area"
      ],
      "metadata": {
        "id": "ekawV-QaFzG5"
      }
    },
    {
      "cell_type": "code",
      "source": [
        "class Rectangle:\n",
        "  def __init__(self):\n",
        "    self.length = 0\n",
        "    self.width = 0\n",
        "\n",
        "  def set_dimension(self,length,width):\n",
        "    self.length = length\n",
        "    self.width = width\n",
        "\n",
        "  def area(self):\n",
        "    return self.length*self.width\n",
        "\n",
        "rect = Rectangle()\n",
        "rect.set_dimension(3,9)\n",
        "print(rect.area())"
      ],
      "metadata": {
        "id": "-2t3kKI9F2AW",
        "colab": {
          "base_uri": "https://localhost:8080/"
        },
        "outputId": "c43dd115-b26d-449a-dc4a-5b8cf4b53e32"
      },
      "execution_count": 17,
      "outputs": [
        {
          "output_type": "stream",
          "name": "stdout",
          "text": [
            "27\n"
          ]
        }
      ]
    },
    {
      "cell_type": "markdown",
      "source": [
        "Ques-->Create a class Employee with a method calculate_salary() that computes the salary based on hours worked\n",
        "and hourly rate. Create a derived class Manager that adds a bonus to the salary."
      ],
      "metadata": {
        "id": "LQHEwYgmF2Nf"
      }
    },
    {
      "cell_type": "code",
      "source": [
        "class Employee:\n",
        "  def __init__(self,name,hours_worked,hourly_rate):\n",
        "    self.name = name\n",
        "    self.hours_worked = hours_worked\n",
        "    self.hourly_rate = hourly_rate\n",
        "\n",
        "  def calculate_salary(self):\n",
        "    return self.hours_worked*self.hourly_rate\n",
        "\n",
        "class Manager(Employee):\n",
        "  def __init__(self,name,hours_worked,hourly_rate,bonus):\n",
        "    self.bonus = bonus\n",
        "    super().__init__(name,hours_worked,hourly_rate)\n",
        "\n",
        "  def calculate_salary(self):\n",
        "    return super().calculate_salary() + self.bonus\n",
        "\n",
        "E1 = Employee(\"Mahi\",24,40)\n",
        "print(\"salary of employee is:\",E1.calculate_salary())\n",
        "\n",
        "M1 = Manager(\"Mahi\",24,40,5000)\n",
        "print(\"Salary with bonus is:\", M1.calculate_salary())"
      ],
      "metadata": {
        "id": "TaT02R_0F5q4",
        "colab": {
          "base_uri": "https://localhost:8080/"
        },
        "outputId": "acc14252-2c1c-4917-b17d-2fd9f154b124"
      },
      "execution_count": 12,
      "outputs": [
        {
          "output_type": "stream",
          "name": "stdout",
          "text": [
            "salary of employee is: 960\n",
            "Salary with bonus is: 5960\n"
          ]
        }
      ]
    },
    {
      "cell_type": "markdown",
      "source": [
        "Ques-->Create a class Product with attributes name, price, and quantity. Implement a method total_price() that\n",
        "calculates the total price of the product."
      ],
      "metadata": {
        "id": "J3jP3aCNF7vw"
      }
    },
    {
      "cell_type": "code",
      "source": [
        "class Product:\n",
        "  def __init__(self,name,price,quantity):\n",
        "    self.name = name\n",
        "    self.price = price\n",
        "    self.quantity = quantity\n",
        "\n",
        "  def total_price(self):\n",
        "    return self.price*self.quantity\n",
        "\n",
        "P1 = Product(\"Pen\",10,4)\n",
        "print(P1.total_price())"
      ],
      "metadata": {
        "id": "CR5j4i2qGX7x",
        "colab": {
          "base_uri": "https://localhost:8080/"
        },
        "outputId": "32374894-6443-41ec-9a55-9d3f9536d4c6"
      },
      "execution_count": 6,
      "outputs": [
        {
          "output_type": "stream",
          "name": "stdout",
          "text": [
            "40\n"
          ]
        }
      ]
    },
    {
      "cell_type": "markdown",
      "source": [
        "Ques-->Create a class Animal with an abstract method sound(). Create two derived classes Cow and Sheep that\n",
        "implement the sound() method."
      ],
      "metadata": {
        "id": "F7u9X-IGGYSS"
      }
    },
    {
      "cell_type": "code",
      "source": [
        "class Animal:\n",
        "  def sound(self):\n",
        "    pass\n",
        "\n",
        "class Cow(Animal):\n",
        "  def sound(self):\n",
        "    print(\"Moo\")\n",
        "\n",
        "class Sheep(Animal):\n",
        "  def sound(self):\n",
        "    print(\"Baa\")"
      ],
      "metadata": {
        "id": "C-JJ7FakGbna"
      },
      "execution_count": 10,
      "outputs": []
    },
    {
      "cell_type": "markdown",
      "source": [
        "Ques-->Create a class Book with attributes title, author, and year_published. Add a method get_book_info() that\n",
        "returns a formatted string with the book's details."
      ],
      "metadata": {
        "id": "f9lHGSadGb9m"
      }
    },
    {
      "cell_type": "code",
      "source": [
        "class book:\n",
        "  def __init__(self,title,author,year_published):\n",
        "    self.title = title\n",
        "    self.author = author\n",
        "    self.year_published = year_published\n",
        "\n",
        "    def get_book_info(self):\n",
        "      return f\"Title:{self.title},Author:{self.author},Year:{self.year_published}\"\n",
        "\n",
        ""
      ],
      "metadata": {
        "id": "33f1ZZc9Ghpi"
      },
      "execution_count": 9,
      "outputs": []
    },
    {
      "cell_type": "markdown",
      "source": [
        "Ques--> Create a class House with attributes address and price. Create a derived class Mansion that adds an\n",
        "attribute number_of_rooms."
      ],
      "metadata": {
        "id": "vXsU2wVkGh_D"
      }
    },
    {
      "cell_type": "code",
      "source": [
        "\n",
        "class House:\n",
        "  def __init__(self,address,price):\n",
        "    self.address=address\n",
        "    self.price=price\n",
        "\n",
        "  def show_info(self):\n",
        "    print(f\"Adress is:{self.address},Prize is:{self.price}\")\n",
        "\n",
        "class Mansion(House):\n",
        "  def __init__(self,address,price,NoOfRooms):\n",
        "    self.NoOfRooms = NoOfRooms\n",
        "    super().__init__(address,price)\n",
        "\n",
        "  def show_info(self):\n",
        "    super().show_info()\n",
        "    print(f\"The total rooms are:{self.NoOfRooms}\")\n",
        "\n",
        "\n",
        "obj1 = Mansion(\"Mumbai\",100000,2)\n",
        "obj1.show_info()"
      ],
      "metadata": {
        "id": "TqHdW4SVGmeN",
        "colab": {
          "base_uri": "https://localhost:8080/"
        },
        "outputId": "dcbb7030-acbc-4ac5-f5bc-0f79b41034c8"
      },
      "execution_count": 7,
      "outputs": [
        {
          "output_type": "stream",
          "name": "stdout",
          "text": [
            "Adress is:Mumbai,Prize is:100000\n",
            "The total rooms are:2\n"
          ]
        }
      ]
    }
  ]
}