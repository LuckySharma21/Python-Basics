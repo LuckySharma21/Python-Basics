{
  "nbformat": 4,
  "nbformat_minor": 0,
  "metadata": {
    "colab": {
      "provenance": []
    },
    "kernelspec": {
      "name": "python3",
      "display_name": "Python 3"
    },
    "language_info": {
      "name": "python"
    }
  },
  "cells": [
    {
      "cell_type": "code",
      "execution_count": null,
      "metadata": {
        "id": "MN3qCwJ7_5NR"
      },
      "outputs": [],
      "source": []
    },
    {
      "cell_type": "markdown",
      "source": [],
      "metadata": {
        "id": "xoayruncC4ye"
      }
    },
    {
      "cell_type": "markdown",
      "source": [
        "#THEORETICAL QUESTIONS\n"
      ],
      "metadata": {
        "id": "lTjoictLV_0F"
      }
    },
    {
      "cell_type": "markdown",
      "source": [
        "Ques---What is Python, and why is it popular\n",
        "\n",
        "Python is a high-level, interpreted, object-oriented programming language.\n",
        "It was created by Guido van Rossum in 1991.\n",
        "**Reasons for popularity**:\n",
        "Simple and readable syntax (easy to learn).\n",
        "Large standard library (many built-in modules).\n",
        "Cross-platform support.\n",
        "Strong community support\n",
        "Widely used in AI, ML, Data Science, Web Development, Automation, etc.\n",
        "---\n",
        "Ques---What is an interpreter in Python\n",
        "\n",
        "An interpreter is a program that executes Python code line by line.\n",
        "Unlike compilers, which translate entire programs at once, the interpreter checks and runs one statement at a time.\n",
        "Python uses CPython interpreter by default.\n",
        "---\n",
        "Ques---What are pre-defined keywords in Python\n",
        "\n",
        "Keywords are reserved words in Python that have special meaning and are used to define syntax and structure.\n",
        "Example: if, else, for, while, def, class, import, True, False, etc.\n",
        "Python has 35+ keywords (depending on the version).\n",
        "\n",
        "Ques---Can keywords be used as variable names\n",
        "\n",
        "No\n",
        "\n",
        "Ques---What is mutability in Python\n",
        "\n",
        "Mutability means whether the value of an object can be changed after creation.\n",
        "Mutable objects: Can be modified (like lists, dictionaries, sets).\n",
        "Immutable objects: Cannot be modified (like tuples, strings, integers).\n",
        "\n",
        "Ques---Why are lists mutable, but tuples are immutable\n",
        "\n",
        "Lists are mutable because they are designed to store dynamic data that may change frequently.\n",
        "Tuples are immutable because they are used for fixed collections of data where safety and efficiency are required.\n",
        "This immutability makes tuples faster and hashable (usable as dictionary keys).\n",
        "\n",
        "Ques---What is the difference between “==” and “is” operators in Python\n",
        "\n",
        "== (Equality Operator): Compares values of two objects.\n",
        "is (Identity Operator): Compares memory location (checks if two variables point to the same object).\n",
        "\n",
        "Ques---What are logical operators in Python\n",
        "\n",
        "They are Used to combine conditional statements.\n",
        "These Operators are:\n",
        "and → True if both conditions are true.\n",
        "or → True if at least one condition is true.\n",
        "not → Reverses the result.\n",
        "\n",
        "Ques---What is type casting in Python\n",
        "\n",
        "Type casting means converting one data type into another.\n",
        "\n",
        "Example:x = \"123\"\n",
        "y = int(x)  # casting string to integer\n",
        "\n",
        "Ques---What is the difference between implicit and explicit type casting\n",
        "\n",
        "Implicit (Type Conversion): Automatically done by Python.\n",
        "Explicit (Type Casting): Manually done by programmer using functions like int(), float(), str().\n",
        "\n",
        "Ques---What is the purpose of conditional statements in Python\n",
        "\n",
        "Conditional statements are used to make decisions in a program.\n",
        "They allow code to execute only if certain conditions are met (control flow).\n",
        "Example: if, elif, else.\n",
        "\n",
        "Ques---How does the elif statement work\n",
        "\n",
        "It checks another condition if the previous if condition is False.\n",
        "Example-\n",
        "x = 20\n",
        "if x > 50:\n",
        "    print(\"Large\")\n",
        "elif x > 10:\n",
        "    print(\"Medium\")   # ✅ Runs this\n",
        "else:\n",
        "    print(\"Small\")\n",
        "\n",
        "Ques---What is the difference between for and while loops\n",
        "\n",
        "A for loop in Python is generally used when the number of iterations is known beforehand. It works by iterating over a sequence such as a range, list, tuple, or string. Initialization, condition checking, and updation are handled within the loop structure itself, which makes it more compact and convenient for iterating through a fixed collection of elements. The loop automatically terminates when the sequence ends.\n",
        "\n",
        "On the other hand, a while loop is used when the number of iterations is not known in advance and depends on a condition. The loop keeps executing as long as the given condition remains true. In this case, initialization must be done before the loop, and updation must be done manually inside the loop. If updation is not done properly, a while loop may result in an infinite loop. Hence, the while loop is more flexible but requires careful handling of the loop condition.\n",
        "\n",
        "Ques---Describe a scenario where a while loop is more suitable than a for loop\n",
        "\n",
        "When the number of iterations is not fixed, and depends on a condition.\n",
        "Example: Reading user input until they enter \"exit\":\n",
        "while True:\n",
        "    word = input(\"Enter word: \")\n",
        "    if word == \"exit\":\n",
        "        break\n"
      ],
      "metadata": {
        "id": "zdJdUVQZKVtj"
      }
    },
    {
      "cell_type": "code",
      "source": [],
      "metadata": {
        "id": "NposAQ6QV5jq"
      },
      "execution_count": null,
      "outputs": []
    },
    {
      "cell_type": "markdown",
      "source": [
        "#PRACTICAL QUESTIONS\n",
        "Ques--- Write a Python program to print \"Hello, World!y\n",
        "\n"
      ],
      "metadata": {
        "id": "9o9OhNo0V725"
      }
    },
    {
      "cell_type": "code",
      "source": [
        "print(\"Hello, World!y\")\n"
      ],
      "metadata": {
        "colab": {
          "base_uri": "https://localhost:8080/"
        },
        "id": "PTRvfKkAWLtW",
        "outputId": "bd05dbd7-309d-4f19-a209-d2d7d7455b93"
      },
      "execution_count": null,
      "outputs": [
        {
          "output_type": "stream",
          "name": "stdout",
          "text": [
            "Hello, World!y\n"
          ]
        }
      ]
    },
    {
      "cell_type": "markdown",
      "source": [
        "Ques---Write a Python program that displays your name and age"
      ],
      "metadata": {
        "id": "kvdGD4oJWWdt"
      }
    },
    {
      "cell_type": "code",
      "source": [
        "age ='23 years'\n",
        "name='Leena'\n",
        "print(name)\n",
        "print(age)"
      ],
      "metadata": {
        "colab": {
          "base_uri": "https://localhost:8080/"
        },
        "id": "PUjzVZ3CWcZZ",
        "outputId": "37788cf1-7930-42fd-fe56-3cde86b5977b"
      },
      "execution_count": null,
      "outputs": [
        {
          "output_type": "stream",
          "name": "stdout",
          "text": [
            "Leena\n",
            "23 years\n"
          ]
        }
      ]
    },
    {
      "cell_type": "markdown",
      "source": [
        "Ques---Write code to print all the pre-defined keywords in Python using the keyword library\n"
      ],
      "metadata": {
        "id": "TYRiMvc6WowD"
      }
    },
    {
      "cell_type": "markdown",
      "source": [],
      "metadata": {
        "id": "eOqy_IdLgBzH"
      }
    },
    {
      "cell_type": "code",
      "source": [
        "import keyword\n",
        "keywords_list=keyword.kwlist\n",
        "\n",
        "print(\"Predefined keywords in python\")\n",
        "for kw in keywords_list:\n",
        "  print(kw)"
      ],
      "metadata": {
        "colab": {
          "base_uri": "https://localhost:8080/"
        },
        "id": "sZu-27bTeWUp",
        "outputId": "cf02c792-2d4f-49a6-b624-dc23c4a33f2c"
      },
      "execution_count": null,
      "outputs": [
        {
          "output_type": "stream",
          "name": "stdout",
          "text": [
            "Predefined keywords in python\n",
            "False\n",
            "None\n",
            "True\n",
            "and\n",
            "as\n",
            "assert\n",
            "async\n",
            "await\n",
            "break\n",
            "class\n",
            "continue\n",
            "def\n",
            "del\n",
            "elif\n",
            "else\n",
            "except\n",
            "finally\n",
            "for\n",
            "from\n",
            "global\n",
            "if\n",
            "import\n",
            "in\n",
            "is\n",
            "lambda\n",
            "nonlocal\n",
            "not\n",
            "or\n",
            "pass\n",
            "raise\n",
            "return\n",
            "try\n",
            "while\n",
            "with\n",
            "yield\n"
          ]
        }
      ]
    },
    {
      "cell_type": "markdown",
      "source": [
        "Ques---Write a program that checks if a given word is a Python keyword.\n"
      ],
      "metadata": {
        "id": "VWdl1IgTgDtt"
      }
    },
    {
      "cell_type": "code",
      "source": [
        "import keyword\n",
        "\n",
        "# Input from user\n",
        "word = input(\"Enter a word: \")\n",
        "\n",
        "# Check if it is a Python keyword\n",
        "if keyword.iskeyword(word):\n",
        "    print(f\"'{word}' is a Python keyword.\")\n",
        "else:\n",
        "    print(f\"'{word}' is NOT a Python keyword.\")\n"
      ],
      "metadata": {
        "colab": {
          "base_uri": "https://localhost:8080/"
        },
        "id": "m6t0WVG9gKid",
        "outputId": "e94e2f94-7376-4672-b2d0-365780a9c50d"
      },
      "execution_count": null,
      "outputs": [
        {
          "output_type": "stream",
          "name": "stdout",
          "text": [
            "Enter a word: alareala\n",
            "'alareala' is NOT a Python keyword.\n"
          ]
        }
      ]
    },
    {
      "cell_type": "markdown",
      "source": [
        "Ques---Create a list and tuple in Python, and demonstrate how attempting to  change an element works differently\n",
        "for each."
      ],
      "metadata": {
        "id": "kHhmRHMcDAd7"
      }
    },
    {
      "cell_type": "code",
      "source": [
        "# Creating a list---\n",
        "myList= [4,8,12,16]\n",
        "print(\"Elements of mylist are\",myList)\n",
        "\n",
        "myList[1]=56\n",
        "print(\"Changes in mylist are shown below\",myList)\n",
        "\n",
        "# Creating a tuple\n",
        "\n",
        "my_tuple=(1,2,4,9,51)\n",
        "print(\"These are eleemnts of a original tuple\",my_tuple)\n",
        "try:\n",
        "  my_tuple[3]=44\n",
        "except TypeError as e:\n",
        "    print(\"error while modifying tuple\",e)\n",
        "\n",
        "\n"
      ],
      "metadata": {
        "colab": {
          "base_uri": "https://localhost:8080/"
        },
        "id": "IX6xT0HeDFxg",
        "outputId": "10b99998-f93d-499c-ad67-c37bfffce59b"
      },
      "execution_count": 1,
      "outputs": [
        {
          "output_type": "stream",
          "name": "stdout",
          "text": [
            "Elements of mylist are [4, 8, 12, 16]\n",
            "Changes in mylist are shown below [4, 56, 12, 16]\n",
            "These are eleemnts of a original tuple (1, 2, 4, 9, 51)\n",
            "error while modifying tuple 'tuple' object does not support item assignment\n"
          ]
        }
      ]
    },
    {
      "cell_type": "markdown",
      "source": [
        "Ques--- Write a function to demonstrate the behavior of mutable and immutable arguments"
      ],
      "metadata": {
        "id": "PPP2tVxjLxbf"
      }
    },
    {
      "cell_type": "code",
      "source": [
        "\n",
        "def modify(x, y):\n",
        "    x = x + 10\n",
        "    y.append(99)\n",
        "\n",
        "# Main code\n",
        "a = 5\n",
        "b = [1, 2, 3]\n",
        "\n",
        "print(\"Before function call:\")\n",
        "print(\"a =\", a)\n",
        "print(\"b =\", b)\n",
        "\n",
        "modify(a, b)\n",
        "\n",
        "print(\"\\nAfter function call:\")\n",
        "print(\"a =\", a)\n",
        "print(\"b =\", b)\n"
      ],
      "metadata": {
        "id": "Ej330cAWRdDb"
      },
      "execution_count": null,
      "outputs": []
    },
    {
      "cell_type": "markdown",
      "source": [
        " Ques---Write a program that performs basic arithmetic operations on two user-input numbers"
      ],
      "metadata": {
        "id": "bD2nLZEqRqvA"
      }
    },
    {
      "cell_type": "code",
      "source": [
        "num1=int(input(\"Enter First number\"))\n",
        "num2=int(input(\"Enter Second number\"))\n",
        "sum = num1 + num2\n",
        "print(\"Sum of two numbers is\",sum)\n",
        "Product = num1 * num2\n",
        "print(\"Product of two numbers is\",Product)\n",
        "Subtraction = num1 - num2\n",
        "print(\"Subtraction of two numbers is\",Subtraction)\n",
        "Division = num1/num2\n",
        "print(\"Division of two numbers is\",Division)\n",
        "\n"
      ],
      "metadata": {
        "colab": {
          "base_uri": "https://localhost:8080/"
        },
        "id": "4Qx631X3SD7y",
        "outputId": "b16972f1-9904-4bb7-f7ae-b1fe383b1a7a"
      },
      "execution_count": 3,
      "outputs": [
        {
          "output_type": "stream",
          "name": "stdout",
          "text": [
            "Enter First number14\n",
            "Enter Second number2\n",
            "Sum of two numbers is 16\n",
            "Product of two numbers is 28\n",
            "Subtraction of two numbers is 12\n",
            "Division of two numbers is 7.0\n"
          ]
        }
      ]
    },
    {
      "cell_type": "markdown",
      "source": [
        "Ques--- Write a program to demonstrate the use of logical operators"
      ],
      "metadata": {
        "id": "ku67pfNdTfDF"
      }
    },
    {
      "cell_type": "code",
      "source": [
        "x = 4\n",
        "y = 6\n",
        "z = 2\n",
        "\n",
        "print(\"x= \",x, \"y= \",y, \"z= \",z)\n",
        "\n",
        "# Logical Operators are AND, OR, NOR\n",
        "# 1) AND OPERATOR\n",
        "print(x>5 and y>8)\n",
        "print(y>4 and z<4)\n",
        "\n",
        "print(\"----------------------------------\")\n",
        "\n",
        "# 2) OR OPERATOR\n",
        "print(x>5 or y>8)\n",
        "print(y>4 or z<4)\n",
        "\n",
        "print(\"----------------------------------\")\n",
        "\n",
        "# 3) NOR OPERATOR\n",
        "print(not(x>5 and y>8))\n",
        "print(not(y>4 and z<4))\n",
        "\n"
      ],
      "metadata": {
        "colab": {
          "base_uri": "https://localhost:8080/"
        },
        "id": "0mkttUG1ThoU",
        "outputId": "27373044-0dfa-4fac-b2c3-258e17da72d5"
      },
      "execution_count": 5,
      "outputs": [
        {
          "output_type": "stream",
          "name": "stdout",
          "text": [
            "x=  4 y=  6 z=  2\n",
            "False\n",
            "True\n",
            "----------------------------------\n",
            "False\n",
            "True\n",
            "----------------------------------\n",
            "True\n",
            "False\n"
          ]
        }
      ]
    },
    {
      "cell_type": "markdown",
      "source": [
        "Ques---Write a Python program to convert user input from string to integer, float, and boolean types."
      ],
      "metadata": {
        "id": "dQiAUQd8W9U5"
      }
    },
    {
      "cell_type": "code",
      "source": [
        "x = input(\"Enter a value: \")\n",
        "\n",
        "# Convert to integer\n",
        "y = int(x)\n",
        "print(f\"{x} (string) converted to {y} (integer)\",y)\n",
        "\n",
        "# Convert to float\n",
        "z = float(x)\n",
        "print(f\"{x} (string) converted to {z} (float)\",z)\n",
        "\n",
        "# Convert to boolean\n",
        "a = bool(x)\n",
        "print(\"As boolean\",a)"
      ],
      "metadata": {
        "colab": {
          "base_uri": "https://localhost:8080/"
        },
        "id": "MXJ0erR3YdM-",
        "outputId": "ab415820-bf3e-4819-a60f-2ea55152f26e"
      },
      "execution_count": 1,
      "outputs": [
        {
          "output_type": "stream",
          "name": "stdout",
          "text": [
            "Enter a value: 452\n",
            "452 (string) converted to 452 (integer) 452\n",
            "452 (string) converted to 452.0 (float) 452.0\n",
            "As boolean True\n"
          ]
        }
      ]
    },
    {
      "cell_type": "markdown",
      "source": [
        "Ques---Write code to demonstrate type casting with list elements"
      ],
      "metadata": {
        "id": "qNJq_2GvPljD"
      }
    },
    {
      "cell_type": "code",
      "source": [
        "list_1 = [\"10\", \"20\", \"30\"]\n",
        "print(\"Original list in string is\",list_1)\n",
        "\n",
        "# Converting to int data type\n",
        "\n",
        "int_list = [int(x) for x in list_1]\n",
        "print(\"String in integer is\",int_list)\n",
        "\n",
        "# Converting to float data type\n",
        "float_list = [float(x) for x in list_1]\n",
        "print(\"String in float is\",float_list)\n",
        "\n",
        "# Converting to Boolean data type\n",
        "bool_list = [bool(x) for x in list_1]\n",
        "print(\"String in boolean is\",bool_list)"
      ],
      "metadata": {
        "colab": {
          "base_uri": "https://localhost:8080/"
        },
        "id": "4P7yJTrJPnnS",
        "outputId": "fb579508-7f98-42fc-c914-0dd4a99f49a3"
      },
      "execution_count": 4,
      "outputs": [
        {
          "output_type": "stream",
          "name": "stdout",
          "text": [
            "Original list in string is ['10', '20', '30']\n",
            "String in integer is [10, 20, 30]\n",
            "String in float is [10.0, 20.0, 30.0]\n",
            "String in boolean is [True, True, True]\n"
          ]
        }
      ]
    },
    {
      "cell_type": "markdown",
      "source": [
        "Ques---Write a program that checks if a number is positive, negative, or zero."
      ],
      "metadata": {
        "id": "P0u9m1xUcGmo"
      }
    },
    {
      "cell_type": "code",
      "source": [
        "num = int(input(\"Enter any number\"))\n",
        "if num > 0:\n",
        "  print(\"Number is positive\")\n",
        "\n",
        "elif num == 0 :\n",
        "  print(\"Number is zero\")\n",
        "\n",
        "else :\n",
        "  print(\"Number is negative\")"
      ],
      "metadata": {
        "colab": {
          "base_uri": "https://localhost:8080/"
        },
        "id": "ClPM5wHncNDk",
        "outputId": "a6230e87-bd0e-47ff-94e4-8642743ab45f"
      },
      "execution_count": 5,
      "outputs": [
        {
          "output_type": "stream",
          "name": "stdout",
          "text": [
            "Enter any number78\n",
            "Number is positive\n"
          ]
        }
      ]
    },
    {
      "cell_type": "markdown",
      "source": [
        "Ques---Write a for loop to print numbers from 1 to 10."
      ],
      "metadata": {
        "id": "RMSNTD6vd38x"
      }
    },
    {
      "cell_type": "code",
      "source": [
        "# Using for loop\n",
        "for i in range(1,11):\n",
        "  print(i)\n",
        "\n"
      ],
      "metadata": {
        "colab": {
          "base_uri": "https://localhost:8080/"
        },
        "id": "WgZ0Sc9AggFu",
        "outputId": "6c89be70-21fe-4fa7-e9df-31bcb000b4d4"
      },
      "execution_count": 15,
      "outputs": [
        {
          "output_type": "stream",
          "name": "stdout",
          "text": [
            "1\n",
            "2\n",
            "3\n",
            "4\n",
            "5\n",
            "6\n",
            "7\n",
            "8\n",
            "9\n",
            "10\n"
          ]
        }
      ]
    },
    {
      "cell_type": "markdown",
      "source": [
        "Ques--- Write a Python program to find the sum of all even numbers between 1 and 50"
      ],
      "metadata": {
        "id": "ZS-97JxBqVpb"
      }
    },
    {
      "cell_type": "code",
      "source": [
        "sum_even = 0\n",
        "for i in range(1,51):\n",
        "  if i%2==0:\n",
        "    sum_even+=i\n",
        "    print(sum_even)"
      ],
      "metadata": {
        "colab": {
          "base_uri": "https://localhost:8080/"
        },
        "id": "J9wKPHA-qYBe",
        "outputId": "9e471b2b-c6c0-472a-c70a-acb0a7fc35b8"
      },
      "execution_count": 19,
      "outputs": [
        {
          "output_type": "stream",
          "name": "stdout",
          "text": [
            "2\n",
            "6\n",
            "12\n",
            "20\n",
            "30\n",
            "42\n",
            "56\n",
            "72\n",
            "90\n",
            "110\n",
            "132\n",
            "156\n",
            "182\n",
            "210\n",
            "240\n",
            "272\n",
            "306\n",
            "342\n",
            "380\n",
            "420\n",
            "462\n",
            "506\n",
            "552\n",
            "600\n",
            "650\n"
          ]
        }
      ]
    },
    {
      "cell_type": "markdown",
      "source": [
        "Ques---Write a program to reverse a string using a while loop."
      ],
      "metadata": {
        "id": "cs1ZE3R-5k6-"
      }
    },
    {
      "cell_type": "code",
      "source": [
        "string = input(\"Enter a string: \")\n",
        "\n",
        "reversed_string = \"\"\n",
        "i = len(string) - 1\n",
        "\n",
        "while i >= 0:\n",
        "    reversed_string += string[i]\n",
        "    i -= 1\n",
        "\n",
        "print(\"Reversed string is:\", reversed_string)\n"
      ],
      "metadata": {
        "colab": {
          "base_uri": "https://localhost:8080/"
        },
        "id": "XKDNcrcs5slb",
        "outputId": "67bc537e-b3ab-4a87-9f64-dd16619ac914"
      },
      "execution_count": 20,
      "outputs": [
        {
          "output_type": "stream",
          "name": "stdout",
          "text": [
            "Enter a string: Leena\n",
            "Reversed string is: aneeL\n"
          ]
        }
      ]
    },
    {
      "cell_type": "markdown",
      "source": [
        "Ques---Write a Python program to calculate the factorial of a number provided by the user using a while loop"
      ],
      "metadata": {
        "id": "-wH2m33DZcxk"
      }
    },
    {
      "cell_type": "code",
      "source": [
        "num = int(input(\"Enter a number: \"))\n",
        "\n",
        "factorial = 1   # factorial ka initial value 1 hota hai\n",
        "i = 1           # counter start from 1\n",
        "\n",
        "while i <= num:     # loop from 1 to num\n",
        "    factorial *= i  # factorial = factorial * i\n",
        "    i += 1          # increment counter\n",
        "\n",
        "print(\"Factorial of\", num, \"is:\", factorial)"
      ],
      "metadata": {
        "colab": {
          "base_uri": "https://localhost:8080/"
        },
        "id": "1K0kw5o2aZ5a",
        "outputId": "86f8398b-00cb-46dc-a704-137000cd5c27"
      },
      "execution_count": 23,
      "outputs": [
        {
          "output_type": "stream",
          "name": "stdout",
          "text": [
            "Enter a number: 3\n",
            "Factorial of 3 is: 6\n"
          ]
        }
      ]
    }
  ]
}